{
  "nbformat": 4,
  "nbformat_minor": 0,
  "metadata": {
    "colab": {
      "name": "Regex_Tutorial_NLP.ipynb",
      "provenance": [],
      "authorship_tag": "ABX9TyMAjnOdLIGPaakEveHHAwTr",
      "include_colab_link": true
    },
    "kernelspec": {
      "name": "python3",
      "display_name": "Python 3"
    },
    "language_info": {
      "name": "python"
    }
  },
  "cells": [
    {
      "cell_type": "markdown",
      "metadata": {
        "id": "view-in-github",
        "colab_type": "text"
      },
      "source": [
        "<a href=\"https://colab.research.google.com/github/mathewgit/NLP/blob/main/Regex_Tutorial_NLP.ipynb\" target=\"_parent\"><img src=\"https://colab.research.google.com/assets/colab-badge.svg\" alt=\"Open In Colab\"/></a>"
      ]
    },
    {
      "cell_type": "code",
      "execution_count": 2,
      "metadata": {
        "id": "dw8P5PAq17nm"
      },
      "outputs": [],
      "source": [
        "import re"
      ]
    },
    {
      "cell_type": "code",
      "source": [
        "# Match 10 digit 412889912 only\n",
        "chat1='codebasics: Hello, I am having an issue with my order # 412889912'\n",
        "pattern = '\\d{10}'\n",
        "matches = re.findall(pattern, chat1)\n",
        "matches"
      ],
      "metadata": {
        "colab": {
          "base_uri": "https://localhost:8080/"
        },
        "id": "_NjwA3jI9okX",
        "outputId": "e27dbb1c-cf72-421a-da5a-eb18ce1c4028"
      },
      "execution_count": 4,
      "outputs": [
        {
          "output_type": "execute_result",
          "data": {
            "text/plain": [
              "[]"
            ]
          },
          "metadata": {},
          "execution_count": 4
        }
      ]
    },
    {
      "cell_type": "code",
      "source": [
        "# Match 10 digit (123)-567-8912 \n",
        "chat1='codebasics: here it is: (123)-567-8912, abc@xyz.com'\n",
        "pattern = '\\(\\d{3}\\)-\\d{3}-\\d{4}'  # \\ before the brackets are escape characters\n",
        "matches = re.findall(pattern, chat1)\n",
        "matches"
      ],
      "metadata": {
        "colab": {
          "base_uri": "https://localhost:8080/"
        },
        "id": "cREmH6FV-ZEz",
        "outputId": "4163ddcb-4f98-426e-fc3c-ec2cf5c8d6ad"
      },
      "execution_count": 6,
      "outputs": [
        {
          "output_type": "execute_result",
          "data": {
            "text/plain": [
              "['(123)-567-8912']"
            ]
          },
          "metadata": {},
          "execution_count": 6
        }
      ]
    },
    {
      "cell_type": "code",
      "source": [
        "chat1 = 'codebasics: you ask lot of questions 😠  1235678912, abc@xyz.com'\n",
        "chat2 = 'codebasics: here it is: (123)-567-8912, abc@xyz.com'\n",
        "chat3 = 'codebasics: yes, phone: 1235678912 email: abc@xyz.com'"
      ],
      "metadata": {
        "id": "D-NtlFuj-pYy"
      },
      "execution_count": null,
      "outputs": []
    },
    {
      "cell_type": "code",
      "source": [
        "# Match both the digits\n",
        "chat1 = 'codebasics: you ask lot of questions 😠  1235678912, abc@xyz.com ,  here it is: (123)-567-8912, abc@xyz.com'\n",
        "pattern = '\\d{10}|\\(\\d{3}\\)-\\d{3}-\\d{4}'  # \\ before the brackets are escape characters\n",
        "matches = re.findall(pattern, chat1)\n",
        "matches"
      ],
      "metadata": {
        "colab": {
          "base_uri": "https://localhost:8080/"
        },
        "id": "kJP1gzOR_XmE",
        "outputId": "3a55b1e8-0eab-42c8-8963-891fa6823ab9"
      },
      "execution_count": 8,
      "outputs": [
        {
          "output_type": "execute_result",
          "data": {
            "text/plain": [
              "['1235678912', '(123)-567-8912']"
            ]
          },
          "metadata": {},
          "execution_count": 8
        }
      ]
    },
    {
      "cell_type": "code",
      "source": [
        "# Email ID\n",
        "chat2 = 'codebasics: here it is: (123)-567-8912, abc_123@xyz.com'\n",
        "pattern = '[a-z0-9A-Z_]*@[a-z0-9A-Z_]*\\.[a-zA-Z]*'  # \\ before the brackets are escape characters\n",
        "matches = re.findall(pattern, chat2)\n",
        "matches\n"
      ],
      "metadata": {
        "colab": {
          "base_uri": "https://localhost:8080/"
        },
        "id": "DcOzWWt1ABb5",
        "outputId": "a34b4ba2-51dc-4203-b814-c105ab76d240"
      },
      "execution_count": 10,
      "outputs": [
        {
          "output_type": "execute_result",
          "data": {
            "text/plain": [
              "['abc_123@xyz.com']"
            ]
          },
          "metadata": {},
          "execution_count": 10
        }
      ]
    },
    {
      "cell_type": "code",
      "source": [
        "# Get the order number\n",
        "\n",
        "chat1='codebasics: Hello, I am having an issue with my order # 412889912'\n",
        "chat2='codebasics: I have a problem with my order number 412889912'\n",
        "chat3='codebasics: My order 412889912 is having an issue, I was charged 300$ when online it says 280$'\n",
        "\n",
        "pattern = 'order[^\\d]*(\\d*)'\n",
        "matches = re.findall(pattern, chat3)\n",
        "matches"
      ],
      "metadata": {
        "colab": {
          "base_uri": "https://localhost:8080/"
        },
        "id": "OTPVWXzG8jtw",
        "outputId": "479bccbf-6e2c-40c6-da59-67becd16ea6e"
      },
      "execution_count": 13,
      "outputs": [
        {
          "output_type": "execute_result",
          "data": {
            "text/plain": [
              "['412889912']"
            ]
          },
          "metadata": {},
          "execution_count": 13
        }
      ]
    },
    {
      "cell_type": "code",
      "source": [
        "# INFORMATION EXTRACTION\n",
        "text='''\n",
        "Born\tElon Reeve Musk\n",
        "June 28, 1971 (age 50)\n",
        "Pretoria, Transvaal, South Africa\n",
        "Citizenship\t\n",
        "South Africa (1971–present)\n",
        "Canada (1971–present)\n",
        "United States (2002–present)\n",
        "Education\tUniversity of Pennsylvania (BS, BA)\n",
        "Title\t\n",
        "Founder, CEO and Chief Engineer of SpaceX\n",
        "CEO and product architect of Tesla, Inc.\n",
        "Founder of The Boring Company and X.com (now part of PayPal)\n",
        "Co-founder of Neuralink, OpenAI, and Zip2\n",
        "Spouse(s)\t\n",
        "Justine Wilson\n",
        "​\n",
        "​(m. 2000; div. 2008)​\n",
        "Talulah Riley\n",
        "​\n",
        "​(m. 2010; div. 2012)​\n",
        "​\n",
        "​(m. 2013; div. 2016)\n",
        "'''"
      ],
      "metadata": {
        "id": "HNftaFdwLfUW"
      },
      "execution_count": 44,
      "outputs": []
    },
    {
      "cell_type": "code",
      "source": [
        "# Regular Expression Function\n",
        "def get_pattern_match(pattern,text):\n",
        "  matches=re.findall(pattern,text)\n",
        "  if matches:\n",
        "    return matches[0]\n"
      ],
      "metadata": {
        "id": "yTMxQRTHNjih"
      },
      "execution_count": 45,
      "outputs": []
    },
    {
      "cell_type": "code",
      "source": [
        "# GET AGE\n",
        "get_pattern_match(r'age (\\d+)', text)  # + mean one or more character"
      ],
      "metadata": {
        "colab": {
          "base_uri": "https://localhost:8080/",
          "height": 35
        },
        "id": "AKk-LWEyNNv4",
        "outputId": "55e0d30a-ab00-4c09-c7cf-220644704e9d"
      },
      "execution_count": 46,
      "outputs": [
        {
          "output_type": "execute_result",
          "data": {
            "text/plain": [
              "'50'"
            ],
            "application/vnd.google.colaboratory.intrinsic+json": {
              "type": "string"
            }
          },
          "metadata": {},
          "execution_count": 46
        }
      ]
    },
    {
      "cell_type": "code",
      "source": [
        "# GET NAME \n",
        "get_pattern_match(r'Born(.*)\\n', text).strip() #\".\" any character "
      ],
      "metadata": {
        "colab": {
          "base_uri": "https://localhost:8080/",
          "height": 35
        },
        "id": "G8LBn1yrNONP",
        "outputId": "429f605e-99c5-4bf6-ff8b-2d65d21c57e7"
      },
      "execution_count": 47,
      "outputs": [
        {
          "output_type": "execute_result",
          "data": {
            "text/plain": [
              "'Elon Reeve Musk'"
            ],
            "application/vnd.google.colaboratory.intrinsic+json": {
              "type": "string"
            }
          },
          "metadata": {},
          "execution_count": 47
        }
      ]
    },
    {
      "cell_type": "code",
      "source": [
        "# BIRTHDAY\n",
        "get_pattern_match('Born.*\\n(.*)\\(age', text).strip() #\".\" any character "
      ],
      "metadata": {
        "colab": {
          "base_uri": "https://localhost:8080/",
          "height": 35
        },
        "id": "mGpP8pIiQW84",
        "outputId": "a697e8d2-3c8d-4da4-a94a-d16ed1a0acde"
      },
      "execution_count": 48,
      "outputs": [
        {
          "output_type": "execute_result",
          "data": {
            "text/plain": [
              "'June 28, 1971'"
            ],
            "application/vnd.google.colaboratory.intrinsic+json": {
              "type": "string"
            }
          },
          "metadata": {},
          "execution_count": 48
        }
      ]
    },
    {
      "cell_type": "code",
      "source": [
        "# BIRTHDAY PLACE\n",
        "get_pattern_match('age.*\\n(.*)', text).strip() #\".\" any character "
      ],
      "metadata": {
        "colab": {
          "base_uri": "https://localhost:8080/",
          "height": 35
        },
        "id": "6KjLuQWeQ-Gv",
        "outputId": "74d6a4b5-8e7e-468f-d01f-49d9dd7ee08a"
      },
      "execution_count": 49,
      "outputs": [
        {
          "output_type": "execute_result",
          "data": {
            "text/plain": [
              "'Pretoria, Transvaal, South Africa'"
            ],
            "application/vnd.google.colaboratory.intrinsic+json": {
              "type": "string"
            }
          },
          "metadata": {},
          "execution_count": 49
        }
      ]
    },
    {
      "cell_type": "code",
      "source": [
        "def get_personal_information(text):\n",
        "  age = get_pattern_match(r'age (\\d+)', text)\n",
        "  full_name = get_pattern_match(r'Born(.*)\\n', text).strip()\n",
        "  birth_date = get_pattern_match('Born.*\\n(.*)\\(age', text).strip()\n",
        "  birth_place = get_pattern_match('age.*\\n(.*)', text).strip()\n",
        "\n",
        "  return  {\n",
        "      'age':int (age),\n",
        "      'name': full_name.strip(),\n",
        "      'birth_date': birth_date.strip(),\n",
        "      'birth_place': birth_place.strip()\n",
        "        }\n",
        "\n",
        "\n"
      ],
      "metadata": {
        "id": "t_W-ZSa8RKhq"
      },
      "execution_count": 52,
      "outputs": []
    },
    {
      "cell_type": "code",
      "source": [
        "get_personal_information(text)"
      ],
      "metadata": {
        "colab": {
          "base_uri": "https://localhost:8080/"
        },
        "id": "TIVbHE0uSkHf",
        "outputId": "b24e2f83-5d07-4f45-e4ea-b9188d63ab09"
      },
      "execution_count": 53,
      "outputs": [
        {
          "output_type": "execute_result",
          "data": {
            "text/plain": [
              "{'age': 50,\n",
              " 'birth_date': 'June 28, 1971',\n",
              " 'birth_place': 'Pretoria, Transvaal, South Africa',\n",
              " 'name': 'Elon Reeve Musk'}"
            ]
          },
          "metadata": {},
          "execution_count": 53
        }
      ]
    }
  ]
}