{
  "nbformat": 4,
  "nbformat_minor": 0,
  "metadata": {
    "colab": {
      "name": "01_Krish NLP .ipynb",
      "provenance": [],
      "collapsed_sections": [],
      "authorship_tag": "ABX9TyOEar2yE7js/74aFR112cPp",
      "include_colab_link": true
    },
    "kernelspec": {
      "name": "python3",
      "display_name": "Python 3"
    },
    "language_info": {
      "name": "python"
    }
  },
  "cells": [
    {
      "cell_type": "markdown",
      "metadata": {
        "id": "view-in-github",
        "colab_type": "text"
      },
      "source": [
        "<a href=\"https://colab.research.google.com/github/mathewgit/NLP/blob/main/krishnlpnotes/01_Krish_NLP_.ipynb\" target=\"_parent\"><img src=\"https://colab.research.google.com/assets/colab-badge.svg\" alt=\"Open In Colab\"/></a>"
      ]
    },
    {
      "cell_type": "code",
      "execution_count": 1,
      "metadata": {
        "id": "DHvLT6_kDtjX",
        "colab": {
          "base_uri": "https://localhost:8080/"
        },
        "outputId": "44bd8f24-23a3-4605-eb89-4e53a1893ac3"
      },
      "outputs": [
        {
          "output_type": "stream",
          "name": "stdout",
          "text": [
            "Looking in indexes: https://pypi.org/simple, https://us-python.pkg.dev/colab-wheels/public/simple/\n",
            "Requirement already satisfied: nltk in /usr/local/lib/python3.7/dist-packages (3.7)\n",
            "Requirement already satisfied: tqdm in /usr/local/lib/python3.7/dist-packages (from nltk) (4.64.0)\n",
            "Requirement already satisfied: joblib in /usr/local/lib/python3.7/dist-packages (from nltk) (1.1.0)\n",
            "Requirement already satisfied: click in /usr/local/lib/python3.7/dist-packages (from nltk) (7.1.2)\n",
            "Requirement already satisfied: regex>=2021.8.3 in /usr/local/lib/python3.7/dist-packages (from nltk) (2022.6.2)\n"
          ]
        }
      ],
      "source": [
        "# Install NLTK\n",
        "## NLTK is a leading platform for building Python programs to work with human language data. It provides easy-to-use interfaces to over 50 corpora and lexical resources such as WordNet, along with a suite of text processing libraries for classification, tokenization, stemming, tagging, parsing, and semantic reasoning, wrappers for industrial-strength NLP libraries\n",
        "\n",
        "!pip install nltk\n"
      ]
    },
    {
      "cell_type": "code",
      "source": [
        "paragraph=\"\"\"\n",
        "Narendra Damodardas Modi (Gujarati: [ˈnəɾendɾə dɑmodəɾˈdɑs ˈmodiː] (listen); born 17 September 1950)[a] is an Indian politician serving as the 14th and current prime minister of India since 2014. Modi was the chief minister of Gujarat from 2001 to 2014 and is the Member of Parliament from Varanasi. He is a member of the Bharatiya Janata Party (BJP) and of the Rashtriya Swayamsevak Sangh (RSS), a right-wing Hindu nationalist paramilitary volunteer organisation. He is the first prime minister to have been born after India's independence in 1947 and the second prime minister not belonging to the Indian National Congress to have won two consecutive majorities in the Lok Sabha, or the lower house of India's parliament. He is also the longest serving prime minister from a non-Congress party.\n",
        "\n",
        "Born and raised in Vadnagar, a small town in northeastern Gujarat, Modi completed his secondary education there. He was introduced to the RSS at age eight. He has drawn attention to having to work as a child in his father's tea stall on the Vadnagar railway station platform, a description that has not been reliably corroborated. At age 18, Modi was married to Jashodaben Chimanlal Modi, whom he abandoned soon after. He left his parental home where she had come to live. He first publicly acknowledged her as his wife more than four decades later when required to do so by Indian law, but has made no contact with her since. Modi has asserted he had travelled in northern India for two years after leaving his parental home, visiting a number of religious centres, but few details of his travels have emerged. Upon his return to Gujarat in 1971, he became a full-time worker for the RSS. After the state of emergency was declared by prime minister Indira Gandhi in 1975, Modi went into hiding. The RSS assigned him to the BJP in 1985 and he held several positions within the party hierarchy until 2001, rising to the rank of general secretary.[b]\n",
        "\"\"\""
      ],
      "metadata": {
        "id": "u7oqcwYskwTE"
      },
      "execution_count": 2,
      "outputs": []
    },
    {
      "cell_type": "code",
      "source": [
        "paragraph"
      ],
      "metadata": {
        "colab": {
          "base_uri": "https://localhost:8080/",
          "height": 105
        },
        "id": "W1n0xrK2lHG_",
        "outputId": "b76760f7-2695-4d84-c8fa-16735da78c7e"
      },
      "execution_count": 3,
      "outputs": [
        {
          "output_type": "execute_result",
          "data": {
            "text/plain": [
              "\"\\nNarendra Damodardas Modi (Gujarati: [ˈnəɾendɾə dɑmodəɾˈdɑs ˈmodiː] (listen); born 17 September 1950)[a] is an Indian politician serving as the 14th and current prime minister of India since 2014. Modi was the chief minister of Gujarat from 2001 to 2014 and is the Member of Parliament from Varanasi. He is a member of the Bharatiya Janata Party (BJP) and of the Rashtriya Swayamsevak Sangh (RSS), a right-wing Hindu nationalist paramilitary volunteer organisation. He is the first prime minister to have been born after India's independence in 1947 and the second prime minister not belonging to the Indian National Congress to have won two consecutive majorities in the Lok Sabha, or the lower house of India's parliament. He is also the longest serving prime minister from a non-Congress party.\\n\\nBorn and raised in Vadnagar, a small town in northeastern Gujarat, Modi completed his secondary education there. He was introduced to the RSS at age eight. He has drawn attention to having to work as a child in his father's tea stall on the Vadnagar railway station platform, a description that has not been reliably corroborated. At age 18, Modi was married to Jashodaben Chimanlal Modi, whom he abandoned soon after. He left his parental home where she had come to live. He first publicly acknowledged her as his wife more than four decades later when required to do so by Indian law, but has made no contact with her since. Modi has asserted he had travelled in northern India for two years after leaving his parental home, visiting a number of religious centres, but few details of his travels have emerged. Upon his return to Gujarat in 1971, he became a full-time worker for the RSS. After the state of emergency was declared by prime minister Indira Gandhi in 1975, Modi went into hiding. The RSS assigned him to the BJP in 1985 and he held several positions within the party hierarchy until 2001, rising to the rank of general secretary.[b]\\n\""
            ],
            "application/vnd.google.colaboratory.intrinsic+json": {
              "type": "string"
            }
          },
          "metadata": {},
          "execution_count": 3
        }
      ]
    },
    {
      "cell_type": "code",
      "source": [
        "# IMPORT LIBRARIES\n",
        "import nltk\n",
        "from nltk.stem import PorterStemmer  # Used for Stemming\n",
        "from nltk.corpus import stopwords"
      ],
      "metadata": {
        "id": "NdkkiWftlfQ8"
      },
      "execution_count": 4,
      "outputs": []
    },
    {
      "cell_type": "code",
      "source": [
        "## Tokanization - Convert Paragprah into sentences and focus on word\n",
        "nltk.download('punkt')  # This package is needed to process.\n",
        "sentences=nltk.sent_tokenize(paragraph)\n",
        "\n"
      ],
      "metadata": {
        "colab": {
          "base_uri": "https://localhost:8080/"
        },
        "id": "Li1-P_pXl7fz",
        "outputId": "1f040baa-6fcd-405f-f32a-1daf103574ad"
      },
      "execution_count": 5,
      "outputs": [
        {
          "output_type": "stream",
          "name": "stderr",
          "text": [
            "[nltk_data] Downloading package punkt to /root/nltk_data...\n",
            "[nltk_data]   Unzipping tokenizers/punkt.zip.\n"
          ]
        }
      ]
    },
    {
      "cell_type": "code",
      "source": [
        "print(sentences)"
      ],
      "metadata": {
        "colab": {
          "base_uri": "https://localhost:8080/"
        },
        "id": "GWQwqfojmI15",
        "outputId": "b4a16495-c657-43d4-9e87-336f7fbda461"
      },
      "execution_count": 6,
      "outputs": [
        {
          "output_type": "stream",
          "name": "stdout",
          "text": [
            "['\\nNarendra Damodardas Modi (Gujarati: [ˈnəɾendɾə dɑmodəɾˈdɑs ˈmodiː] (listen); born 17 September 1950)[a] is an Indian politician serving as the 14th and current prime minister of India since 2014.', 'Modi was the chief minister of Gujarat from 2001 to 2014 and is the Member of Parliament from Varanasi.', 'He is a member of the Bharatiya Janata Party (BJP) and of the Rashtriya Swayamsevak Sangh (RSS), a right-wing Hindu nationalist paramilitary volunteer organisation.', \"He is the first prime minister to have been born after India's independence in 1947 and the second prime minister not belonging to the Indian National Congress to have won two consecutive majorities in the Lok Sabha, or the lower house of India's parliament.\", 'He is also the longest serving prime minister from a non-Congress party.', 'Born and raised in Vadnagar, a small town in northeastern Gujarat, Modi completed his secondary education there.', 'He was introduced to the RSS at age eight.', \"He has drawn attention to having to work as a child in his father's tea stall on the Vadnagar railway station platform, a description that has not been reliably corroborated.\", 'At age 18, Modi was married to Jashodaben Chimanlal Modi, whom he abandoned soon after.', 'He left his parental home where she had come to live.', 'He first publicly acknowledged her as his wife more than four decades later when required to do so by Indian law, but has made no contact with her since.', 'Modi has asserted he had travelled in northern India for two years after leaving his parental home, visiting a number of religious centres, but few details of his travels have emerged.', 'Upon his return to Gujarat in 1971, he became a full-time worker for the RSS.', 'After the state of emergency was declared by prime minister Indira Gandhi in 1975, Modi went into hiding.', 'The RSS assigned him to the BJP in 1985 and he held several positions within the party hierarchy until 2001, rising to the rank of general secretary.', '[b]']\n"
          ]
        }
      ]
    },
    {
      "cell_type": "code",
      "source": [
        "# Stemming\n",
        "stemmer=PorterStemmer()"
      ],
      "metadata": {
        "id": "9f8YxjIGmsyG"
      },
      "execution_count": 7,
      "outputs": []
    },
    {
      "cell_type": "code",
      "source": [
        "stemmer.stem(' Drinking')"
      ],
      "metadata": {
        "colab": {
          "base_uri": "https://localhost:8080/",
          "height": 35
        },
        "id": "dr4wU3_5m5Nh",
        "outputId": "7acc149f-8e9d-488a-b221-76c39fb2a676"
      },
      "execution_count": 8,
      "outputs": [
        {
          "output_type": "execute_result",
          "data": {
            "text/plain": [
              "' drink'"
            ],
            "application/vnd.google.colaboratory.intrinsic+json": {
              "type": "string"
            }
          },
          "metadata": {},
          "execution_count": 8
        }
      ]
    },
    {
      "cell_type": "code",
      "source": [
        "# Lemmatization\n",
        "nltk.download('wordnet') # Import wordnet to work on Lemmatization\n",
        "nltk.download('omw-1.4') # Import wordnet to work on Lemmatization\n",
        "from nltk.stem import WordNetLemmatizer"
      ],
      "metadata": {
        "colab": {
          "base_uri": "https://localhost:8080/"
        },
        "id": "ZxwhXTJanAii",
        "outputId": "1f0f174c-7ef4-405d-eeac-dbe4b65afd4c"
      },
      "execution_count": 9,
      "outputs": [
        {
          "output_type": "stream",
          "name": "stderr",
          "text": [
            "[nltk_data] Downloading package wordnet to /root/nltk_data...\n",
            "[nltk_data]   Unzipping corpora/wordnet.zip.\n",
            "[nltk_data] Downloading package omw-1.4 to /root/nltk_data...\n",
            "[nltk_data]   Unzipping corpora/omw-1.4.zip.\n"
          ]
        }
      ]
    },
    {
      "cell_type": "code",
      "source": [
        "lemmatizer=WordNetLemmatizer()\n",
        "lemmatizer.lemmatize('goes')"
      ],
      "metadata": {
        "colab": {
          "base_uri": "https://localhost:8080/",
          "height": 35
        },
        "id": "WFE0Cak6nNCO",
        "outputId": "3668712a-4c0e-40cb-aae4-96aa1514e874"
      },
      "execution_count": 10,
      "outputs": [
        {
          "output_type": "execute_result",
          "data": {
            "text/plain": [
              "'go'"
            ],
            "application/vnd.google.colaboratory.intrinsic+json": {
              "type": "string"
            }
          },
          "metadata": {},
          "execution_count": 10
        }
      ]
    },
    {
      "cell_type": "code",
      "source": [
        "# Using regular expression to clean the sentences \n",
        "\n",
        "import re\n",
        "corpus=[]\n",
        "for i in range(len(sentences)):\n",
        "  review=re.sub('[^a-zA-Z]',' ', sentences[i]) # Removing all the special characters\n",
        "  review=review.lower() # making it lower\n",
        "  corpus.append(review)"
      ],
      "metadata": {
        "id": "90FbJkbXnTuZ"
      },
      "execution_count": 11,
      "outputs": []
    },
    {
      "cell_type": "code",
      "source": [
        "corpus"
      ],
      "metadata": {
        "colab": {
          "base_uri": "https://localhost:8080/"
        },
        "id": "_mo1X9B5osVb",
        "outputId": "296c8368-920b-4655-d7f8-3b0cec7651c8"
      },
      "execution_count": 12,
      "outputs": [
        {
          "output_type": "execute_result",
          "data": {
            "text/plain": [
              "[' narendra damodardas modi  gujarati    n  end   d mod   d s  modi    listen   born    september       a  is an indian politician serving as the   th and current prime minister of india since      ',\n",
              " 'modi was the chief minister of gujarat from      to      and is the member of parliament from varanasi ',\n",
              " 'he is a member of the bharatiya janata party  bjp  and of the rashtriya swayamsevak sangh  rss   a right wing hindu nationalist paramilitary volunteer organisation ',\n",
              " 'he is the first prime minister to have been born after india s independence in      and the second prime minister not belonging to the indian national congress to have won two consecutive majorities in the lok sabha  or the lower house of india s parliament ',\n",
              " 'he is also the longest serving prime minister from a non congress party ',\n",
              " 'born and raised in vadnagar  a small town in northeastern gujarat  modi completed his secondary education there ',\n",
              " 'he was introduced to the rss at age eight ',\n",
              " 'he has drawn attention to having to work as a child in his father s tea stall on the vadnagar railway station platform  a description that has not been reliably corroborated ',\n",
              " 'at age     modi was married to jashodaben chimanlal modi  whom he abandoned soon after ',\n",
              " 'he left his parental home where she had come to live ',\n",
              " 'he first publicly acknowledged her as his wife more than four decades later when required to do so by indian law  but has made no contact with her since ',\n",
              " 'modi has asserted he had travelled in northern india for two years after leaving his parental home  visiting a number of religious centres  but few details of his travels have emerged ',\n",
              " 'upon his return to gujarat in       he became a full time worker for the rss ',\n",
              " 'after the state of emergency was declared by prime minister indira gandhi in       modi went into hiding ',\n",
              " 'the rss assigned him to the bjp in      and he held several positions within the party hierarchy until       rising to the rank of general secretary ',\n",
              " ' b ']"
            ]
          },
          "metadata": {},
          "execution_count": 12
        }
      ]
    },
    {
      "cell_type": "code",
      "source": [
        "# What are the contents in the stopwords!!!\n",
        "import nltk\n",
        "nltk.download('stopwords')\n",
        "stopwords.words('english')"
      ],
      "metadata": {
        "colab": {
          "base_uri": "https://localhost:8080/"
        },
        "id": "bAtOedeZYHOs",
        "outputId": "b75b6feb-3b66-46e4-894f-18db0876371f"
      },
      "execution_count": 14,
      "outputs": [
        {
          "output_type": "stream",
          "name": "stderr",
          "text": [
            "[nltk_data] Downloading package stopwords to /root/nltk_data...\n",
            "[nltk_data]   Unzipping corpora/stopwords.zip.\n"
          ]
        },
        {
          "output_type": "execute_result",
          "data": {
            "text/plain": [
              "['i',\n",
              " 'me',\n",
              " 'my',\n",
              " 'myself',\n",
              " 'we',\n",
              " 'our',\n",
              " 'ours',\n",
              " 'ourselves',\n",
              " 'you',\n",
              " \"you're\",\n",
              " \"you've\",\n",
              " \"you'll\",\n",
              " \"you'd\",\n",
              " 'your',\n",
              " 'yours',\n",
              " 'yourself',\n",
              " 'yourselves',\n",
              " 'he',\n",
              " 'him',\n",
              " 'his',\n",
              " 'himself',\n",
              " 'she',\n",
              " \"she's\",\n",
              " 'her',\n",
              " 'hers',\n",
              " 'herself',\n",
              " 'it',\n",
              " \"it's\",\n",
              " 'its',\n",
              " 'itself',\n",
              " 'they',\n",
              " 'them',\n",
              " 'their',\n",
              " 'theirs',\n",
              " 'themselves',\n",
              " 'what',\n",
              " 'which',\n",
              " 'who',\n",
              " 'whom',\n",
              " 'this',\n",
              " 'that',\n",
              " \"that'll\",\n",
              " 'these',\n",
              " 'those',\n",
              " 'am',\n",
              " 'is',\n",
              " 'are',\n",
              " 'was',\n",
              " 'were',\n",
              " 'be',\n",
              " 'been',\n",
              " 'being',\n",
              " 'have',\n",
              " 'has',\n",
              " 'had',\n",
              " 'having',\n",
              " 'do',\n",
              " 'does',\n",
              " 'did',\n",
              " 'doing',\n",
              " 'a',\n",
              " 'an',\n",
              " 'the',\n",
              " 'and',\n",
              " 'but',\n",
              " 'if',\n",
              " 'or',\n",
              " 'because',\n",
              " 'as',\n",
              " 'until',\n",
              " 'while',\n",
              " 'of',\n",
              " 'at',\n",
              " 'by',\n",
              " 'for',\n",
              " 'with',\n",
              " 'about',\n",
              " 'against',\n",
              " 'between',\n",
              " 'into',\n",
              " 'through',\n",
              " 'during',\n",
              " 'before',\n",
              " 'after',\n",
              " 'above',\n",
              " 'below',\n",
              " 'to',\n",
              " 'from',\n",
              " 'up',\n",
              " 'down',\n",
              " 'in',\n",
              " 'out',\n",
              " 'on',\n",
              " 'off',\n",
              " 'over',\n",
              " 'under',\n",
              " 'again',\n",
              " 'further',\n",
              " 'then',\n",
              " 'once',\n",
              " 'here',\n",
              " 'there',\n",
              " 'when',\n",
              " 'where',\n",
              " 'why',\n",
              " 'how',\n",
              " 'all',\n",
              " 'any',\n",
              " 'both',\n",
              " 'each',\n",
              " 'few',\n",
              " 'more',\n",
              " 'most',\n",
              " 'other',\n",
              " 'some',\n",
              " 'such',\n",
              " 'no',\n",
              " 'nor',\n",
              " 'not',\n",
              " 'only',\n",
              " 'own',\n",
              " 'same',\n",
              " 'so',\n",
              " 'than',\n",
              " 'too',\n",
              " 'very',\n",
              " 's',\n",
              " 't',\n",
              " 'can',\n",
              " 'will',\n",
              " 'just',\n",
              " 'don',\n",
              " \"don't\",\n",
              " 'should',\n",
              " \"should've\",\n",
              " 'now',\n",
              " 'd',\n",
              " 'll',\n",
              " 'm',\n",
              " 'o',\n",
              " 're',\n",
              " 've',\n",
              " 'y',\n",
              " 'ain',\n",
              " 'aren',\n",
              " \"aren't\",\n",
              " 'couldn',\n",
              " \"couldn't\",\n",
              " 'didn',\n",
              " \"didn't\",\n",
              " 'doesn',\n",
              " \"doesn't\",\n",
              " 'hadn',\n",
              " \"hadn't\",\n",
              " 'hasn',\n",
              " \"hasn't\",\n",
              " 'haven',\n",
              " \"haven't\",\n",
              " 'isn',\n",
              " \"isn't\",\n",
              " 'ma',\n",
              " 'mightn',\n",
              " \"mightn't\",\n",
              " 'mustn',\n",
              " \"mustn't\",\n",
              " 'needn',\n",
              " \"needn't\",\n",
              " 'shan',\n",
              " \"shan't\",\n",
              " 'shouldn',\n",
              " \"shouldn't\",\n",
              " 'wasn',\n",
              " \"wasn't\",\n",
              " 'weren',\n",
              " \"weren't\",\n",
              " 'won',\n",
              " \"won't\",\n",
              " 'wouldn',\n",
              " \"wouldn't\"]"
            ]
          },
          "metadata": {},
          "execution_count": 14
        }
      ]
    },
    {
      "cell_type": "code",
      "source": [
        "## Apply Stemming\n",
        "nltk.download('stopwords')\n",
        "for i in corpus:\n",
        "  words = nltk.word_tokenize(i) # Converts sentence into words\n",
        "  for word in words:\n",
        "    if word not in set(stopwords.words('english')):\n",
        "      print(stemmer.stem(word))"
      ],
      "metadata": {
        "colab": {
          "base_uri": "https://localhost:8080/"
        },
        "id": "EHCgKl2VotPv",
        "outputId": "2b64ca54-284e-4774-98d4-4b068c40d983"
      },
      "execution_count": 15,
      "outputs": [
        {
          "output_type": "stream",
          "name": "stderr",
          "text": [
            "[nltk_data] Downloading package stopwords to /root/nltk_data...\n",
            "[nltk_data]   Package stopwords is already up-to-date!\n"
          ]
        },
        {
          "output_type": "stream",
          "name": "stdout",
          "text": [
            "narendra\n",
            "damodarda\n",
            "modi\n",
            "gujarati\n",
            "n\n",
            "end\n",
            "mod\n",
            "modi\n",
            "listen\n",
            "born\n",
            "septemb\n",
            "indian\n",
            "politician\n",
            "serv\n",
            "th\n",
            "current\n",
            "prime\n",
            "minist\n",
            "india\n",
            "sinc\n",
            "modi\n",
            "chief\n",
            "minist\n",
            "gujarat\n",
            "member\n",
            "parliament\n",
            "varanasi\n",
            "member\n",
            "bharatiya\n",
            "janata\n",
            "parti\n",
            "bjp\n",
            "rashtriya\n",
            "swayamsevak\n",
            "sangh\n",
            "rss\n",
            "right\n",
            "wing\n",
            "hindu\n",
            "nationalist\n",
            "paramilitari\n",
            "volunt\n",
            "organis\n",
            "first\n",
            "prime\n",
            "minist\n",
            "born\n",
            "india\n",
            "independ\n",
            "second\n",
            "prime\n",
            "minist\n",
            "belong\n",
            "indian\n",
            "nation\n",
            "congress\n",
            "two\n",
            "consecut\n",
            "major\n",
            "lok\n",
            "sabha\n",
            "lower\n",
            "hous\n",
            "india\n",
            "parliament\n",
            "also\n",
            "longest\n",
            "serv\n",
            "prime\n",
            "minist\n",
            "non\n",
            "congress\n",
            "parti\n",
            "born\n",
            "rais\n",
            "vadnagar\n",
            "small\n",
            "town\n",
            "northeastern\n",
            "gujarat\n",
            "modi\n",
            "complet\n",
            "secondari\n",
            "educ\n",
            "introduc\n",
            "rss\n",
            "age\n",
            "eight\n",
            "drawn\n",
            "attent\n",
            "work\n",
            "child\n",
            "father\n",
            "tea\n",
            "stall\n",
            "vadnagar\n",
            "railway\n",
            "station\n",
            "platform\n",
            "descript\n",
            "reliabl\n",
            "corrobor\n",
            "age\n",
            "modi\n",
            "marri\n",
            "jashodaben\n",
            "chimanl\n",
            "modi\n",
            "abandon\n",
            "soon\n",
            "left\n",
            "parent\n",
            "home\n",
            "come\n",
            "live\n",
            "first\n",
            "publicli\n",
            "acknowledg\n",
            "wife\n",
            "four\n",
            "decad\n",
            "later\n",
            "requir\n",
            "indian\n",
            "law\n",
            "made\n",
            "contact\n",
            "sinc\n",
            "modi\n",
            "assert\n",
            "travel\n",
            "northern\n",
            "india\n",
            "two\n",
            "year\n",
            "leav\n",
            "parent\n",
            "home\n",
            "visit\n",
            "number\n",
            "religi\n",
            "centr\n",
            "detail\n",
            "travel\n",
            "emerg\n",
            "upon\n",
            "return\n",
            "gujarat\n",
            "becam\n",
            "full\n",
            "time\n",
            "worker\n",
            "rss\n",
            "state\n",
            "emerg\n",
            "declar\n",
            "prime\n",
            "minist\n",
            "indira\n",
            "gandhi\n",
            "modi\n",
            "went\n",
            "hide\n",
            "rss\n",
            "assign\n",
            "bjp\n",
            "held\n",
            "sever\n",
            "posit\n",
            "within\n",
            "parti\n",
            "hierarchi\n",
            "rise\n",
            "rank\n",
            "gener\n",
            "secretari\n",
            "b\n"
          ]
        }
      ]
    },
    {
      "cell_type": "code",
      "source": [
        "## Apply Stemming\n",
        "\n",
        "for i in corpus:\n",
        "  words = nltk.word_tokenize(i) # Converts sentence into words\n",
        "  for word in words:\n",
        "    if word not in set(stopwords.words('english')):\n",
        "      print(lemmatizer.lemmatize(word))"
      ],
      "metadata": {
        "colab": {
          "base_uri": "https://localhost:8080/"
        },
        "id": "SGZhsqCPpbq1",
        "outputId": "ad972b1a-6fad-437a-841e-54f81635ce19"
      },
      "execution_count": 16,
      "outputs": [
        {
          "output_type": "stream",
          "name": "stdout",
          "text": [
            "narendra\n",
            "damodardas\n",
            "modi\n",
            "gujarati\n",
            "n\n",
            "end\n",
            "mod\n",
            "modi\n",
            "listen\n",
            "born\n",
            "september\n",
            "indian\n",
            "politician\n",
            "serving\n",
            "th\n",
            "current\n",
            "prime\n",
            "minister\n",
            "india\n",
            "since\n",
            "modi\n",
            "chief\n",
            "minister\n",
            "gujarat\n",
            "member\n",
            "parliament\n",
            "varanasi\n",
            "member\n",
            "bharatiya\n",
            "janata\n",
            "party\n",
            "bjp\n",
            "rashtriya\n",
            "swayamsevak\n",
            "sangh\n",
            "r\n",
            "right\n",
            "wing\n",
            "hindu\n",
            "nationalist\n",
            "paramilitary\n",
            "volunteer\n",
            "organisation\n",
            "first\n",
            "prime\n",
            "minister\n",
            "born\n",
            "india\n",
            "independence\n",
            "second\n",
            "prime\n",
            "minister\n",
            "belonging\n",
            "indian\n",
            "national\n",
            "congress\n",
            "two\n",
            "consecutive\n",
            "majority\n",
            "lok\n",
            "sabha\n",
            "lower\n",
            "house\n",
            "india\n",
            "parliament\n",
            "also\n",
            "longest\n",
            "serving\n",
            "prime\n",
            "minister\n",
            "non\n",
            "congress\n",
            "party\n",
            "born\n",
            "raised\n",
            "vadnagar\n",
            "small\n",
            "town\n",
            "northeastern\n",
            "gujarat\n",
            "modi\n",
            "completed\n",
            "secondary\n",
            "education\n",
            "introduced\n",
            "r\n",
            "age\n",
            "eight\n",
            "drawn\n",
            "attention\n",
            "work\n",
            "child\n",
            "father\n",
            "tea\n",
            "stall\n",
            "vadnagar\n",
            "railway\n",
            "station\n",
            "platform\n",
            "description\n",
            "reliably\n",
            "corroborated\n",
            "age\n",
            "modi\n",
            "married\n",
            "jashodaben\n",
            "chimanlal\n",
            "modi\n",
            "abandoned\n",
            "soon\n",
            "left\n",
            "parental\n",
            "home\n",
            "come\n",
            "live\n",
            "first\n",
            "publicly\n",
            "acknowledged\n",
            "wife\n",
            "four\n",
            "decade\n",
            "later\n",
            "required\n",
            "indian\n",
            "law\n",
            "made\n",
            "contact\n",
            "since\n",
            "modi\n",
            "asserted\n",
            "travelled\n",
            "northern\n",
            "india\n",
            "two\n",
            "year\n",
            "leaving\n",
            "parental\n",
            "home\n",
            "visiting\n",
            "number\n",
            "religious\n",
            "centre\n",
            "detail\n",
            "travel\n",
            "emerged\n",
            "upon\n",
            "return\n",
            "gujarat\n",
            "became\n",
            "full\n",
            "time\n",
            "worker\n",
            "r\n",
            "state\n",
            "emergency\n",
            "declared\n",
            "prime\n",
            "minister\n",
            "indira\n",
            "gandhi\n",
            "modi\n",
            "went\n",
            "hiding\n",
            "r\n",
            "assigned\n",
            "bjp\n",
            "held\n",
            "several\n",
            "position\n",
            "within\n",
            "party\n",
            "hierarchy\n",
            "rising\n",
            "rank\n",
            "general\n",
            "secretary\n",
            "b\n"
          ]
        }
      ]
    },
    {
      "cell_type": "code",
      "source": [
        "#Bag of words\n",
        "from sklearn.feature_extraction.text import CountVectorizer\n",
        "cv=CountVectorizer()"
      ],
      "metadata": {
        "id": "uSCfa6hWqQ95"
      },
      "execution_count": 17,
      "outputs": []
    },
    {
      "cell_type": "code",
      "source": [
        "X=cv.fit_transform(corpus)"
      ],
      "metadata": {
        "id": "4oo4TzKXqZ1a"
      },
      "execution_count": 18,
      "outputs": []
    },
    {
      "cell_type": "code",
      "source": [
        "cv.vocabulary_"
      ],
      "metadata": {
        "colab": {
          "base_uri": "https://localhost:8080/"
        },
        "id": "pVUTNHUbqkwo",
        "outputId": "89743447-e60e-45e5-e555-5f47ca9415f5"
      },
      "execution_count": 19,
      "outputs": [
        {
          "output_type": "execute_result",
          "data": {
            "text/plain": [
              "{'abandoned': 0,\n",
              " 'acknowledged': 1,\n",
              " 'after': 2,\n",
              " 'age': 3,\n",
              " 'also': 4,\n",
              " 'an': 5,\n",
              " 'and': 6,\n",
              " 'as': 7,\n",
              " 'asserted': 8,\n",
              " 'assigned': 9,\n",
              " 'at': 10,\n",
              " 'attention': 11,\n",
              " 'became': 12,\n",
              " 'been': 13,\n",
              " 'belonging': 14,\n",
              " 'bharatiya': 15,\n",
              " 'bjp': 16,\n",
              " 'born': 17,\n",
              " 'but': 18,\n",
              " 'by': 19,\n",
              " 'centres': 20,\n",
              " 'chief': 21,\n",
              " 'child': 22,\n",
              " 'chimanlal': 23,\n",
              " 'come': 24,\n",
              " 'completed': 25,\n",
              " 'congress': 26,\n",
              " 'consecutive': 27,\n",
              " 'contact': 28,\n",
              " 'corroborated': 29,\n",
              " 'current': 30,\n",
              " 'damodardas': 31,\n",
              " 'decades': 32,\n",
              " 'declared': 33,\n",
              " 'description': 34,\n",
              " 'details': 35,\n",
              " 'do': 36,\n",
              " 'drawn': 37,\n",
              " 'education': 38,\n",
              " 'eight': 39,\n",
              " 'emerged': 40,\n",
              " 'emergency': 41,\n",
              " 'end': 42,\n",
              " 'father': 43,\n",
              " 'few': 44,\n",
              " 'first': 45,\n",
              " 'for': 46,\n",
              " 'four': 47,\n",
              " 'from': 48,\n",
              " 'full': 49,\n",
              " 'gandhi': 50,\n",
              " 'general': 51,\n",
              " 'gujarat': 52,\n",
              " 'gujarati': 53,\n",
              " 'had': 54,\n",
              " 'has': 55,\n",
              " 'have': 56,\n",
              " 'having': 57,\n",
              " 'he': 58,\n",
              " 'held': 59,\n",
              " 'her': 60,\n",
              " 'hiding': 61,\n",
              " 'hierarchy': 62,\n",
              " 'him': 63,\n",
              " 'hindu': 64,\n",
              " 'his': 65,\n",
              " 'home': 66,\n",
              " 'house': 67,\n",
              " 'in': 68,\n",
              " 'independence': 69,\n",
              " 'india': 70,\n",
              " 'indian': 71,\n",
              " 'indira': 72,\n",
              " 'into': 73,\n",
              " 'introduced': 74,\n",
              " 'is': 75,\n",
              " 'janata': 76,\n",
              " 'jashodaben': 77,\n",
              " 'later': 78,\n",
              " 'law': 79,\n",
              " 'leaving': 80,\n",
              " 'left': 81,\n",
              " 'listen': 82,\n",
              " 'live': 83,\n",
              " 'lok': 84,\n",
              " 'longest': 85,\n",
              " 'lower': 86,\n",
              " 'made': 87,\n",
              " 'majorities': 88,\n",
              " 'married': 89,\n",
              " 'member': 90,\n",
              " 'minister': 91,\n",
              " 'mod': 92,\n",
              " 'modi': 93,\n",
              " 'more': 94,\n",
              " 'narendra': 95,\n",
              " 'national': 96,\n",
              " 'nationalist': 97,\n",
              " 'no': 98,\n",
              " 'non': 99,\n",
              " 'northeastern': 100,\n",
              " 'northern': 101,\n",
              " 'not': 102,\n",
              " 'number': 103,\n",
              " 'of': 104,\n",
              " 'on': 105,\n",
              " 'or': 106,\n",
              " 'organisation': 107,\n",
              " 'paramilitary': 108,\n",
              " 'parental': 109,\n",
              " 'parliament': 110,\n",
              " 'party': 111,\n",
              " 'platform': 112,\n",
              " 'politician': 113,\n",
              " 'positions': 114,\n",
              " 'prime': 115,\n",
              " 'publicly': 116,\n",
              " 'railway': 117,\n",
              " 'raised': 118,\n",
              " 'rank': 119,\n",
              " 'rashtriya': 120,\n",
              " 'reliably': 121,\n",
              " 'religious': 122,\n",
              " 'required': 123,\n",
              " 'return': 124,\n",
              " 'right': 125,\n",
              " 'rising': 126,\n",
              " 'rss': 127,\n",
              " 'sabha': 128,\n",
              " 'sangh': 129,\n",
              " 'second': 130,\n",
              " 'secondary': 131,\n",
              " 'secretary': 132,\n",
              " 'september': 133,\n",
              " 'serving': 134,\n",
              " 'several': 135,\n",
              " 'she': 136,\n",
              " 'since': 137,\n",
              " 'small': 138,\n",
              " 'so': 139,\n",
              " 'soon': 140,\n",
              " 'stall': 141,\n",
              " 'state': 142,\n",
              " 'station': 143,\n",
              " 'swayamsevak': 144,\n",
              " 'tea': 145,\n",
              " 'th': 146,\n",
              " 'than': 147,\n",
              " 'that': 148,\n",
              " 'the': 149,\n",
              " 'there': 150,\n",
              " 'time': 151,\n",
              " 'to': 152,\n",
              " 'town': 153,\n",
              " 'travelled': 154,\n",
              " 'travels': 155,\n",
              " 'two': 156,\n",
              " 'until': 157,\n",
              " 'upon': 158,\n",
              " 'vadnagar': 159,\n",
              " 'varanasi': 160,\n",
              " 'visiting': 161,\n",
              " 'volunteer': 162,\n",
              " 'was': 163,\n",
              " 'went': 164,\n",
              " 'when': 165,\n",
              " 'where': 166,\n",
              " 'whom': 167,\n",
              " 'wife': 168,\n",
              " 'wing': 169,\n",
              " 'with': 170,\n",
              " 'within': 171,\n",
              " 'won': 172,\n",
              " 'work': 173,\n",
              " 'worker': 174,\n",
              " 'years': 175}"
            ]
          },
          "metadata": {},
          "execution_count": 19
        }
      ]
    },
    {
      "cell_type": "code",
      "source": [
        "corpus[0]"
      ],
      "metadata": {
        "colab": {
          "base_uri": "https://localhost:8080/",
          "height": 35
        },
        "id": "uu0PtqFlq-L5",
        "outputId": "b3185e3a-a347-4052-d218-293e9b2bbc62"
      },
      "execution_count": 20,
      "outputs": [
        {
          "output_type": "execute_result",
          "data": {
            "text/plain": [
              "' narendra damodardas modi  gujarati    n  end   d mod   d s  modi    listen   born    september       a  is an indian politician serving as the   th and current prime minister of india since      '"
            ],
            "application/vnd.google.colaboratory.intrinsic+json": {
              "type": "string"
            }
          },
          "metadata": {},
          "execution_count": 20
        }
      ]
    },
    {
      "cell_type": "code",
      "source": [
        "X[0].toarray()"
      ],
      "metadata": {
        "colab": {
          "base_uri": "https://localhost:8080/"
        },
        "id": "RJwuHw6mrABd",
        "outputId": "8adc9382-3650-4973-91f7-ee445dbdc331"
      },
      "execution_count": 21,
      "outputs": [
        {
          "output_type": "execute_result",
          "data": {
            "text/plain": [
              "array([[0, 0, 0, 0, 0, 1, 1, 1, 0, 0, 0, 0, 0, 0, 0, 0, 0, 1, 0, 0, 0, 0,\n",
              "        0, 0, 0, 0, 0, 0, 0, 0, 1, 1, 0, 0, 0, 0, 0, 0, 0, 0, 0, 0, 1, 0,\n",
              "        0, 0, 0, 0, 0, 0, 0, 0, 0, 1, 0, 0, 0, 0, 0, 0, 0, 0, 0, 0, 0, 0,\n",
              "        0, 0, 0, 0, 1, 1, 0, 0, 0, 1, 0, 0, 0, 0, 0, 0, 1, 0, 0, 0, 0, 0,\n",
              "        0, 0, 0, 1, 1, 2, 0, 1, 0, 0, 0, 0, 0, 0, 0, 0, 1, 0, 0, 0, 0, 0,\n",
              "        0, 0, 0, 1, 0, 1, 0, 0, 0, 0, 0, 0, 0, 0, 0, 0, 0, 0, 0, 0, 0, 0,\n",
              "        0, 1, 1, 0, 0, 1, 0, 0, 0, 0, 0, 0, 0, 0, 1, 0, 0, 1, 0, 0, 0, 0,\n",
              "        0, 0, 0, 0, 0, 0, 0, 0, 0, 0, 0, 0, 0, 0, 0, 0, 0, 0, 0, 0, 0, 0]])"
            ]
          },
          "metadata": {},
          "execution_count": 21
        }
      ]
    },
    {
      "cell_type": "code",
      "source": [
        "## Apply Stopswords. Lemmatize\n",
        "import re\n",
        "corpus = []\n",
        "for i in range(len(sentences)):\n",
        "    review = re.sub('[^a-zA-Z]', ' ', sentences[i])\n",
        "    review = review.lower()\n",
        "    review = review.split()\n",
        "    review = [lemmatizer.lemmatize(word) for word in review if not word in set(stopwords.words('english'))]\n",
        "    review = ' '.join(review)\n",
        "    corpus.append(review)"
      ],
      "metadata": {
        "id": "871HaDFRrFtk"
      },
      "execution_count": 22,
      "outputs": []
    },
    {
      "cell_type": "code",
      "source": [
        "corpus"
      ],
      "metadata": {
        "colab": {
          "base_uri": "https://localhost:8080/"
        },
        "id": "dQ2sQ_39Iulb",
        "outputId": "e2c4c03b-6b9e-4121-b3b3-0b09f459253d"
      },
      "execution_count": 23,
      "outputs": [
        {
          "output_type": "execute_result",
          "data": {
            "text/plain": [
              "['narendra damodardas modi gujarati n end mod modi listen born september indian politician serving th current prime minister india since',\n",
              " 'modi chief minister gujarat member parliament varanasi',\n",
              " 'member bharatiya janata party bjp rashtriya swayamsevak sangh r right wing hindu nationalist paramilitary volunteer organisation',\n",
              " 'first prime minister born india independence second prime minister belonging indian national congress two consecutive majority lok sabha lower house india parliament',\n",
              " 'also longest serving prime minister non congress party',\n",
              " 'born raised vadnagar small town northeastern gujarat modi completed secondary education',\n",
              " 'introduced r age eight',\n",
              " 'drawn attention work child father tea stall vadnagar railway station platform description reliably corroborated',\n",
              " 'age modi married jashodaben chimanlal modi abandoned soon',\n",
              " 'left parental home come live',\n",
              " 'first publicly acknowledged wife four decade later required indian law made contact since',\n",
              " 'modi asserted travelled northern india two year leaving parental home visiting number religious centre detail travel emerged',\n",
              " 'upon return gujarat became full time worker r',\n",
              " 'state emergency declared prime minister indira gandhi modi went hiding',\n",
              " 'r assigned bjp held several position within party hierarchy rising rank general secretary',\n",
              " 'b']"
            ]
          },
          "metadata": {},
          "execution_count": 23
        }
      ]
    },
    {
      "cell_type": "code",
      "source": [
        "##Bag OF Words\n",
        "from sklearn.feature_extraction.text import CountVectorizer\n",
        "cv=CountVectorizer(binary=True,ngram_range=(2,3))"
      ],
      "metadata": {
        "id": "QXMh7_r0Ivbz"
      },
      "execution_count": 24,
      "outputs": []
    },
    {
      "cell_type": "code",
      "source": [
        "X=cv.fit_transform(corpus)"
      ],
      "metadata": {
        "id": "sDDPLY-9JDlv"
      },
      "execution_count": 25,
      "outputs": []
    },
    {
      "cell_type": "code",
      "source": [
        "cv.vocabulary_"
      ],
      "metadata": {
        "colab": {
          "base_uri": "https://localhost:8080/"
        },
        "id": "Fuca3yyqJGe1",
        "outputId": "477fead1-f161-4344-d625-6d72c3938d0c"
      },
      "execution_count": 26,
      "outputs": [
        {
          "output_type": "execute_result",
          "data": {
            "text/plain": [
              "{'abandoned soon': 0,\n",
              " 'acknowledged wife': 1,\n",
              " 'acknowledged wife four': 2,\n",
              " 'age eight': 3,\n",
              " 'age modi': 4,\n",
              " 'age modi married': 5,\n",
              " 'also longest': 6,\n",
              " 'also longest serving': 7,\n",
              " 'asserted travelled': 8,\n",
              " 'asserted travelled northern': 9,\n",
              " 'assigned bjp': 10,\n",
              " 'assigned bjp held': 11,\n",
              " 'attention work': 12,\n",
              " 'attention work child': 13,\n",
              " 'became full': 14,\n",
              " 'became full time': 15,\n",
              " 'belonging indian': 16,\n",
              " 'belonging indian national': 17,\n",
              " 'bharatiya janata': 18,\n",
              " 'bharatiya janata party': 19,\n",
              " 'bjp held': 20,\n",
              " 'bjp held several': 21,\n",
              " 'bjp rashtriya': 22,\n",
              " 'bjp rashtriya swayamsevak': 23,\n",
              " 'born india': 24,\n",
              " 'born india independence': 25,\n",
              " 'born raised': 26,\n",
              " 'born raised vadnagar': 27,\n",
              " 'born september': 28,\n",
              " 'born september indian': 29,\n",
              " 'centre detail': 30,\n",
              " 'centre detail travel': 31,\n",
              " 'chief minister': 32,\n",
              " 'chief minister gujarat': 33,\n",
              " 'child father': 34,\n",
              " 'child father tea': 35,\n",
              " 'chimanlal modi': 36,\n",
              " 'chimanlal modi abandoned': 37,\n",
              " 'come live': 38,\n",
              " 'completed secondary': 39,\n",
              " 'completed secondary education': 40,\n",
              " 'congress party': 41,\n",
              " 'congress two': 42,\n",
              " 'congress two consecutive': 43,\n",
              " 'consecutive majority': 44,\n",
              " 'consecutive majority lok': 45,\n",
              " 'contact since': 46,\n",
              " 'current prime': 47,\n",
              " 'current prime minister': 48,\n",
              " 'damodardas modi': 49,\n",
              " 'damodardas modi gujarati': 50,\n",
              " 'decade later': 51,\n",
              " 'decade later required': 52,\n",
              " 'declared prime': 53,\n",
              " 'declared prime minister': 54,\n",
              " 'description reliably': 55,\n",
              " 'description reliably corroborated': 56,\n",
              " 'detail travel': 57,\n",
              " 'detail travel emerged': 58,\n",
              " 'drawn attention': 59,\n",
              " 'drawn attention work': 60,\n",
              " 'emergency declared': 61,\n",
              " 'emergency declared prime': 62,\n",
              " 'end mod': 63,\n",
              " 'end mod modi': 64,\n",
              " 'father tea': 65,\n",
              " 'father tea stall': 66,\n",
              " 'first prime': 67,\n",
              " 'first prime minister': 68,\n",
              " 'first publicly': 69,\n",
              " 'first publicly acknowledged': 70,\n",
              " 'four decade': 71,\n",
              " 'four decade later': 72,\n",
              " 'full time': 73,\n",
              " 'full time worker': 74,\n",
              " 'gandhi modi': 75,\n",
              " 'gandhi modi went': 76,\n",
              " 'general secretary': 77,\n",
              " 'gujarat became': 78,\n",
              " 'gujarat became full': 79,\n",
              " 'gujarat member': 80,\n",
              " 'gujarat member parliament': 81,\n",
              " 'gujarat modi': 82,\n",
              " 'gujarat modi completed': 83,\n",
              " 'gujarati end': 84,\n",
              " 'gujarati end mod': 85,\n",
              " 'held several': 86,\n",
              " 'held several position': 87,\n",
              " 'hierarchy rising': 88,\n",
              " 'hierarchy rising rank': 89,\n",
              " 'hindu nationalist': 90,\n",
              " 'hindu nationalist paramilitary': 91,\n",
              " 'home come': 92,\n",
              " 'home come live': 93,\n",
              " 'home visiting': 94,\n",
              " 'home visiting number': 95,\n",
              " 'house india': 96,\n",
              " 'house india parliament': 97,\n",
              " 'independence second': 98,\n",
              " 'independence second prime': 99,\n",
              " 'india independence': 100,\n",
              " 'india independence second': 101,\n",
              " 'india parliament': 102,\n",
              " 'india since': 103,\n",
              " 'india two': 104,\n",
              " 'india two year': 105,\n",
              " 'indian law': 106,\n",
              " 'indian law made': 107,\n",
              " 'indian national': 108,\n",
              " 'indian national congress': 109,\n",
              " 'indian politician': 110,\n",
              " 'indian politician serving': 111,\n",
              " 'indira gandhi': 112,\n",
              " 'indira gandhi modi': 113,\n",
              " 'introduced age': 114,\n",
              " 'introduced age eight': 115,\n",
              " 'janata party': 116,\n",
              " 'janata party bjp': 117,\n",
              " 'jashodaben chimanlal': 118,\n",
              " 'jashodaben chimanlal modi': 119,\n",
              " 'later required': 120,\n",
              " 'later required indian': 121,\n",
              " 'law made': 122,\n",
              " 'law made contact': 123,\n",
              " 'leaving parental': 124,\n",
              " 'leaving parental home': 125,\n",
              " 'left parental': 126,\n",
              " 'left parental home': 127,\n",
              " 'listen born': 128,\n",
              " 'listen born september': 129,\n",
              " 'lok sabha': 130,\n",
              " 'lok sabha lower': 131,\n",
              " 'longest serving': 132,\n",
              " 'longest serving prime': 133,\n",
              " 'lower house': 134,\n",
              " 'lower house india': 135,\n",
              " 'made contact': 136,\n",
              " 'made contact since': 137,\n",
              " 'majority lok': 138,\n",
              " 'majority lok sabha': 139,\n",
              " 'married jashodaben': 140,\n",
              " 'married jashodaben chimanlal': 141,\n",
              " 'member bharatiya': 142,\n",
              " 'member bharatiya janata': 143,\n",
              " 'member parliament': 144,\n",
              " 'member parliament varanasi': 145,\n",
              " 'minister belonging': 146,\n",
              " 'minister belonging indian': 147,\n",
              " 'minister born': 148,\n",
              " 'minister born india': 149,\n",
              " 'minister gujarat': 150,\n",
              " 'minister gujarat member': 151,\n",
              " 'minister india': 152,\n",
              " 'minister india since': 153,\n",
              " 'minister indira': 154,\n",
              " 'minister indira gandhi': 155,\n",
              " 'minister non': 156,\n",
              " 'minister non congress': 157,\n",
              " 'mod modi': 158,\n",
              " 'mod modi listen': 159,\n",
              " 'modi abandoned': 160,\n",
              " 'modi abandoned soon': 161,\n",
              " 'modi asserted': 162,\n",
              " 'modi asserted travelled': 163,\n",
              " 'modi chief': 164,\n",
              " 'modi chief minister': 165,\n",
              " 'modi completed': 166,\n",
              " 'modi completed secondary': 167,\n",
              " 'modi gujarati': 168,\n",
              " 'modi gujarati end': 169,\n",
              " 'modi listen': 170,\n",
              " 'modi listen born': 171,\n",
              " 'modi married': 172,\n",
              " 'modi married jashodaben': 173,\n",
              " 'modi went': 174,\n",
              " 'modi went hiding': 175,\n",
              " 'narendra damodardas': 176,\n",
              " 'narendra damodardas modi': 177,\n",
              " 'national congress': 178,\n",
              " 'national congress two': 179,\n",
              " 'nationalist paramilitary': 180,\n",
              " 'nationalist paramilitary volunteer': 181,\n",
              " 'non congress': 182,\n",
              " 'non congress party': 183,\n",
              " 'northeastern gujarat': 184,\n",
              " 'northeastern gujarat modi': 185,\n",
              " 'northern india': 186,\n",
              " 'northern india two': 187,\n",
              " 'number religious': 188,\n",
              " 'number religious centre': 189,\n",
              " 'paramilitary volunteer': 190,\n",
              " 'paramilitary volunteer organisation': 191,\n",
              " 'parental home': 192,\n",
              " 'parental home come': 193,\n",
              " 'parental home visiting': 194,\n",
              " 'parliament varanasi': 195,\n",
              " 'party bjp': 196,\n",
              " 'party bjp rashtriya': 197,\n",
              " 'party hierarchy': 198,\n",
              " 'party hierarchy rising': 199,\n",
              " 'platform description': 200,\n",
              " 'platform description reliably': 201,\n",
              " 'politician serving': 202,\n",
              " 'politician serving th': 203,\n",
              " 'position within': 204,\n",
              " 'position within party': 205,\n",
              " 'prime minister': 206,\n",
              " 'prime minister belonging': 207,\n",
              " 'prime minister born': 208,\n",
              " 'prime minister india': 209,\n",
              " 'prime minister indira': 210,\n",
              " 'prime minister non': 211,\n",
              " 'publicly acknowledged': 212,\n",
              " 'publicly acknowledged wife': 213,\n",
              " 'railway station': 214,\n",
              " 'railway station platform': 215,\n",
              " 'raised vadnagar': 216,\n",
              " 'raised vadnagar small': 217,\n",
              " 'rank general': 218,\n",
              " 'rank general secretary': 219,\n",
              " 'rashtriya swayamsevak': 220,\n",
              " 'rashtriya swayamsevak sangh': 221,\n",
              " 'reliably corroborated': 222,\n",
              " 'religious centre': 223,\n",
              " 'religious centre detail': 224,\n",
              " 'required indian': 225,\n",
              " 'required indian law': 226,\n",
              " 'return gujarat': 227,\n",
              " 'return gujarat became': 228,\n",
              " 'right wing': 229,\n",
              " 'right wing hindu': 230,\n",
              " 'rising rank': 231,\n",
              " 'rising rank general': 232,\n",
              " 'sabha lower': 233,\n",
              " 'sabha lower house': 234,\n",
              " 'sangh right': 235,\n",
              " 'sangh right wing': 236,\n",
              " 'second prime': 237,\n",
              " 'second prime minister': 238,\n",
              " 'secondary education': 239,\n",
              " 'september indian': 240,\n",
              " 'september indian politician': 241,\n",
              " 'serving prime': 242,\n",
              " 'serving prime minister': 243,\n",
              " 'serving th': 244,\n",
              " 'serving th current': 245,\n",
              " 'several position': 246,\n",
              " 'several position within': 247,\n",
              " 'small town': 248,\n",
              " 'small town northeastern': 249,\n",
              " 'stall vadnagar': 250,\n",
              " 'stall vadnagar railway': 251,\n",
              " 'state emergency': 252,\n",
              " 'state emergency declared': 253,\n",
              " 'station platform': 254,\n",
              " 'station platform description': 255,\n",
              " 'swayamsevak sangh': 256,\n",
              " 'swayamsevak sangh right': 257,\n",
              " 'tea stall': 258,\n",
              " 'tea stall vadnagar': 259,\n",
              " 'th current': 260,\n",
              " 'th current prime': 261,\n",
              " 'time worker': 262,\n",
              " 'town northeastern': 263,\n",
              " 'town northeastern gujarat': 264,\n",
              " 'travel emerged': 265,\n",
              " 'travelled northern': 266,\n",
              " 'travelled northern india': 267,\n",
              " 'two consecutive': 268,\n",
              " 'two consecutive majority': 269,\n",
              " 'two year': 270,\n",
              " 'two year leaving': 271,\n",
              " 'upon return': 272,\n",
              " 'upon return gujarat': 273,\n",
              " 'vadnagar railway': 274,\n",
              " 'vadnagar railway station': 275,\n",
              " 'vadnagar small': 276,\n",
              " 'vadnagar small town': 277,\n",
              " 'visiting number': 278,\n",
              " 'visiting number religious': 279,\n",
              " 'volunteer organisation': 280,\n",
              " 'went hiding': 281,\n",
              " 'wife four': 282,\n",
              " 'wife four decade': 283,\n",
              " 'wing hindu': 284,\n",
              " 'wing hindu nationalist': 285,\n",
              " 'within party': 286,\n",
              " 'within party hierarchy': 287,\n",
              " 'work child': 288,\n",
              " 'work child father': 289,\n",
              " 'year leaving': 290,\n",
              " 'year leaving parental': 291}"
            ]
          },
          "metadata": {},
          "execution_count": 26
        }
      ]
    },
    {
      "cell_type": "code",
      "source": [
        "corpus[0]"
      ],
      "metadata": {
        "colab": {
          "base_uri": "https://localhost:8080/",
          "height": 35
        },
        "id": "7fNORwFZJPzb",
        "outputId": "4e8f7b8d-e52a-431f-abac-5ca8ef98720c"
      },
      "execution_count": 27,
      "outputs": [
        {
          "output_type": "execute_result",
          "data": {
            "text/plain": [
              "'narendra damodardas modi gujarati n end mod modi listen born september indian politician serving th current prime minister india since'"
            ],
            "application/vnd.google.colaboratory.intrinsic+json": {
              "type": "string"
            }
          },
          "metadata": {},
          "execution_count": 27
        }
      ]
    },
    {
      "cell_type": "code",
      "source": [
        "X[0].toarray()"
      ],
      "metadata": {
        "colab": {
          "base_uri": "https://localhost:8080/"
        },
        "id": "yXTgNhxVJQjJ",
        "outputId": "b2d6de21-e2d8-4346-923b-832dd639c164"
      },
      "execution_count": 28,
      "outputs": [
        {
          "output_type": "execute_result",
          "data": {
            "text/plain": [
              "array([[0, 0, 0, 0, 0, 0, 0, 0, 0, 0, 0, 0, 0, 0, 0, 0, 0, 0, 0, 0, 0, 0,\n",
              "        0, 0, 0, 0, 0, 0, 1, 1, 0, 0, 0, 0, 0, 0, 0, 0, 0, 0, 0, 0, 0, 0,\n",
              "        0, 0, 0, 1, 1, 1, 1, 0, 0, 0, 0, 0, 0, 0, 0, 0, 0, 0, 0, 1, 1, 0,\n",
              "        0, 0, 0, 0, 0, 0, 0, 0, 0, 0, 0, 0, 0, 0, 0, 0, 0, 0, 1, 1, 0, 0,\n",
              "        0, 0, 0, 0, 0, 0, 0, 0, 0, 0, 0, 0, 0, 0, 0, 1, 0, 0, 0, 0, 0, 0,\n",
              "        1, 1, 0, 0, 0, 0, 0, 0, 0, 0, 0, 0, 0, 0, 0, 0, 0, 0, 1, 1, 0, 0,\n",
              "        0, 0, 0, 0, 0, 0, 0, 0, 0, 0, 0, 0, 0, 0, 0, 0, 0, 0, 0, 0, 1, 1,\n",
              "        0, 0, 0, 0, 1, 1, 0, 0, 0, 0, 0, 0, 0, 0, 1, 1, 1, 1, 0, 0, 0, 0,\n",
              "        1, 1, 0, 0, 0, 0, 0, 0, 0, 0, 0, 0, 0, 0, 0, 0, 0, 0, 0, 0, 0, 0,\n",
              "        0, 0, 0, 0, 1, 1, 0, 0, 1, 0, 0, 1, 0, 0, 0, 0, 0, 0, 0, 0, 0, 0,\n",
              "        0, 0, 0, 0, 0, 0, 0, 0, 0, 0, 0, 0, 0, 0, 0, 0, 0, 0, 0, 0, 1, 1,\n",
              "        0, 0, 1, 1, 0, 0, 0, 0, 0, 0, 0, 0, 0, 0, 0, 0, 0, 0, 1, 1, 0, 0,\n",
              "        0, 0, 0, 0, 0, 0, 0, 0, 0, 0, 0, 0, 0, 0, 0, 0, 0, 0, 0, 0, 0, 0,\n",
              "        0, 0, 0, 0, 0, 0]])"
            ]
          },
          "metadata": {},
          "execution_count": 28
        }
      ]
    },
    {
      "cell_type": "code",
      "source": [
        "### TFIDF\n",
        "from sklearn.feature_extraction.text import TfidfVectorizer\n",
        "cv=TfidfVectorizer(ngram_range=(1,1),max_features=10)\n",
        "X=cv.fit_transform(corpus)"
      ],
      "metadata": {
        "id": "-UnzUUiNJRDg"
      },
      "execution_count": 29,
      "outputs": []
    },
    {
      "cell_type": "code",
      "source": [
        "corpus[0]"
      ],
      "metadata": {
        "colab": {
          "base_uri": "https://localhost:8080/",
          "height": 35
        },
        "id": "V0VOk8yMJgOp",
        "outputId": "0c728f0a-30bc-477c-991c-6fc489db573e"
      },
      "execution_count": 30,
      "outputs": [
        {
          "output_type": "execute_result",
          "data": {
            "text/plain": [
              "'narendra damodardas modi gujarati n end mod modi listen born september indian politician serving th current prime minister india since'"
            ],
            "application/vnd.google.colaboratory.intrinsic+json": {
              "type": "string"
            }
          },
          "metadata": {},
          "execution_count": 30
        }
      ]
    },
    {
      "cell_type": "code",
      "source": [
        "X[0].toarray()"
      ],
      "metadata": {
        "colab": {
          "base_uri": "https://localhost:8080/"
        },
        "id": "K1w10veLJjoo",
        "outputId": "9a92b114-00c8-493c-e407-ddf77ec77cdf"
      },
      "execution_count": 31,
      "outputs": [
        {
          "output_type": "execute_result",
          "data": {
            "text/plain": [
              "array([[0.38064993, 0.        , 0.38064993, 0.38064993, 0.        ,\n",
              "        0.31757459, 0.5871889 , 0.        , 0.        , 0.34593707]])"
            ]
          },
          "metadata": {},
          "execution_count": 31
        }
      ]
    }
  ]
}