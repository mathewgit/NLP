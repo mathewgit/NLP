{
  "nbformat": 4,
  "nbformat_minor": 0,
  "metadata": {
    "colab": {
      "name": "01_Krish NLP .ipynb",
      "provenance": [],
      "collapsed_sections": [],
      "authorship_tag": "ABX9TyNCDVqotHUWOyjL7yDkzD6o",
      "include_colab_link": true
    },
    "kernelspec": {
      "name": "python3",
      "display_name": "Python 3"
    },
    "language_info": {
      "name": "python"
    }
  },
  "cells": [
    {
      "cell_type": "markdown",
      "metadata": {
        "id": "view-in-github",
        "colab_type": "text"
      },
      "source": [
        "<a href=\"https://colab.research.google.com/github/mathewgit/NLP/blob/main/krishnlpnotes/01_Krish_NLP_.ipynb\" target=\"_parent\"><img src=\"https://colab.research.google.com/assets/colab-badge.svg\" alt=\"Open In Colab\"/></a>"
      ]
    },
    {
      "cell_type": "code",
      "execution_count": 1,
      "metadata": {
        "id": "DHvLT6_kDtjX",
        "colab": {
          "base_uri": "https://localhost:8080/"
        },
        "outputId": "b6e131c1-c04d-45cc-a4a4-0173aa56be85"
      },
      "outputs": [
        {
          "output_type": "stream",
          "name": "stdout",
          "text": [
            "Looking in indexes: https://pypi.org/simple, https://us-python.pkg.dev/colab-wheels/public/simple/\n",
            "Requirement already satisfied: nltk in /usr/local/lib/python3.7/dist-packages (3.7)\n",
            "Requirement already satisfied: regex>=2021.8.3 in /usr/local/lib/python3.7/dist-packages (from nltk) (2022.6.2)\n",
            "Requirement already satisfied: joblib in /usr/local/lib/python3.7/dist-packages (from nltk) (1.1.0)\n",
            "Requirement already satisfied: click in /usr/local/lib/python3.7/dist-packages (from nltk) (7.1.2)\n",
            "Requirement already satisfied: tqdm in /usr/local/lib/python3.7/dist-packages (from nltk) (4.64.0)\n"
          ]
        }
      ],
      "source": [
        "# Install NLTK\n",
        "## NLTK is a leading platform for building Python programs to work with human language data. It provides easy-to-use interfaces to over 50 corpora and lexical resources such as WordNet, along with a suite of text processing libraries for classification, tokenization, stemming, tagging, parsing, and semantic reasoning, wrappers for industrial-strength NLP libraries\n",
        "\n",
        "!pip install nltk\n"
      ]
    },
    {
      "cell_type": "code",
      "source": [
        "paragraph=\"\"\"\n",
        "Narendra Damodardas Modi (Gujarati: [ˈnəɾendɾə dɑmodəɾˈdɑs ˈmodiː] (listen); born 17 September 1950)[a] is an Indian politician serving as the 14th and current prime minister of India since 2014. Modi was the chief minister of Gujarat from 2001 to 2014 and is the Member of Parliament from Varanasi. He is a member of the Bharatiya Janata Party (BJP) and of the Rashtriya Swayamsevak Sangh (RSS), a right-wing Hindu nationalist paramilitary volunteer organisation. He is the first prime minister to have been born after India's independence in 1947 and the second prime minister not belonging to the Indian National Congress to have won two consecutive majorities in the Lok Sabha, or the lower house of India's parliament. He is also the longest serving prime minister from a non-Congress party.\n",
        "\n",
        "Born and raised in Vadnagar, a small town in northeastern Gujarat, Modi completed his secondary education there. He was introduced to the RSS at age eight. He has drawn attention to having to work as a child in his father's tea stall on the Vadnagar railway station platform, a description that has not been reliably corroborated. At age 18, Modi was married to Jashodaben Chimanlal Modi, whom he abandoned soon after. He left his parental home where she had come to live. He first publicly acknowledged her as his wife more than four decades later when required to do so by Indian law, but has made no contact with her since. Modi has asserted he had travelled in northern India for two years after leaving his parental home, visiting a number of religious centres, but few details of his travels have emerged. Upon his return to Gujarat in 1971, he became a full-time worker for the RSS. After the state of emergency was declared by prime minister Indira Gandhi in 1975, Modi went into hiding. The RSS assigned him to the BJP in 1985 and he held several positions within the party hierarchy until 2001, rising to the rank of general secretary.[b]\n",
        "\"\"\""
      ],
      "metadata": {
        "id": "u7oqcwYskwTE"
      },
      "execution_count": 2,
      "outputs": []
    },
    {
      "cell_type": "code",
      "source": [
        "paragraph"
      ],
      "metadata": {
        "colab": {
          "base_uri": "https://localhost:8080/",
          "height": 105
        },
        "id": "W1n0xrK2lHG_",
        "outputId": "91678dcb-299b-4062-b953-9bf3b7ff64b2"
      },
      "execution_count": 3,
      "outputs": [
        {
          "output_type": "execute_result",
          "data": {
            "text/plain": [
              "\"\\nNarendra Damodardas Modi (Gujarati: [ˈnəɾendɾə dɑmodəɾˈdɑs ˈmodiː] (listen); born 17 September 1950)[a] is an Indian politician serving as the 14th and current prime minister of India since 2014. Modi was the chief minister of Gujarat from 2001 to 2014 and is the Member of Parliament from Varanasi. He is a member of the Bharatiya Janata Party (BJP) and of the Rashtriya Swayamsevak Sangh (RSS), a right-wing Hindu nationalist paramilitary volunteer organisation. He is the first prime minister to have been born after India's independence in 1947 and the second prime minister not belonging to the Indian National Congress to have won two consecutive majorities in the Lok Sabha, or the lower house of India's parliament. He is also the longest serving prime minister from a non-Congress party.\\n\\nBorn and raised in Vadnagar, a small town in northeastern Gujarat, Modi completed his secondary education there. He was introduced to the RSS at age eight. He has drawn attention to having to work as a child in his father's tea stall on the Vadnagar railway station platform, a description that has not been reliably corroborated. At age 18, Modi was married to Jashodaben Chimanlal Modi, whom he abandoned soon after. He left his parental home where she had come to live. He first publicly acknowledged her as his wife more than four decades later when required to do so by Indian law, but has made no contact with her since. Modi has asserted he had travelled in northern India for two years after leaving his parental home, visiting a number of religious centres, but few details of his travels have emerged. Upon his return to Gujarat in 1971, he became a full-time worker for the RSS. After the state of emergency was declared by prime minister Indira Gandhi in 1975, Modi went into hiding. The RSS assigned him to the BJP in 1985 and he held several positions within the party hierarchy until 2001, rising to the rank of general secretary.[b]\\n\""
            ],
            "application/vnd.google.colaboratory.intrinsic+json": {
              "type": "string"
            }
          },
          "metadata": {},
          "execution_count": 3
        }
      ]
    },
    {
      "cell_type": "code",
      "source": [
        "# IMPORT LIBRARIES\n",
        "import nltk\n",
        "from nltk.stem import PorterStemmer\n",
        "from nltk.corpus import stopwords"
      ],
      "metadata": {
        "id": "NdkkiWftlfQ8"
      },
      "execution_count": null,
      "outputs": []
    },
    {
      "cell_type": "code",
      "source": [
        "## Tokanization - Convert Paragprah to sentence- word\n",
        "nltk.download('punkt')\n",
        "sentences=nltk.sent_tokenize(paragraph)\n",
        "\n"
      ],
      "metadata": {
        "colab": {
          "base_uri": "https://localhost:8080/"
        },
        "id": "Li1-P_pXl7fz",
        "outputId": "4de1a302-d865-48a6-adac-6b679db9248d"
      },
      "execution_count": null,
      "outputs": [
        {
          "output_type": "stream",
          "name": "stderr",
          "text": [
            "[nltk_data] Downloading package punkt to /root/nltk_data...\n",
            "[nltk_data]   Unzipping tokenizers/punkt.zip.\n"
          ]
        }
      ]
    },
    {
      "cell_type": "code",
      "source": [
        "print(sentences)"
      ],
      "metadata": {
        "colab": {
          "base_uri": "https://localhost:8080/"
        },
        "id": "GWQwqfojmI15",
        "outputId": "9125812a-2a12-4c0f-abea-1a60865bb4e8"
      },
      "execution_count": null,
      "outputs": [
        {
          "output_type": "stream",
          "name": "stdout",
          "text": [
            "[' Narendra Damodardas Modi (Gujarati: [ˈnəɾendɾə dɑmodəɾˈdɑs ˈmodiː] (listen); born 17 September 1950)[a] is an Indian politician serving as the 14th and current prime minister of India since 2014.', 'Modi was the chief minister of Gujarat from 2001 to 2014 and is the Member of Parliament from Varanasi.', 'He is a member of the Bharatiya Janata Party (BJP) and of the Rashtriya Swayamsevak Sangh (RSS), a right-wing Hindu nationalist paramilitary volunteer organisation.', \"He is the first prime minister to have been born after India's independence in 1947 and the second prime minister not belonging to the Indian National Congress to have won two consecutive majorities in the Lok Sabha, or the lower house of India's parliament.\", 'He is also the longest serving prime minister from a non-Congress party.', 'Born and raised in Vadnagar, a small town in northeastern Gujarat, Modi completed his secondary education there.', 'He was introduced to the RSS at age eight.', \"He has drawn attention to having to work as a child in his father's tea stall on the Vadnagar railway station platform, a description that has not been reliably corroborated.\", 'At age 18, Modi was married to Jashodaben Chimanlal Modi, whom he abandoned soon after.', 'He left his parental home where she had come to live.', 'He first publicly acknowledged her as his wife more than four decades later when required to do so by Indian law, but has made no contact with her since.', 'Modi has asserted he had travelled in northern India for two years after leaving his parental home, visiting a number of religious centres, but few details of his travels have emerged.', 'Upon his return to Gujarat in 1971, he became a full-time worker for the RSS.', 'After the state of emergency was declared by prime minister Indira Gandhi in 1975, Modi went into hiding.', 'The RSS assigned him to the BJP in 1985 and he held several positions within the party hierarchy until 2001, rising to the rank of general secretary.', '[b]']\n"
          ]
        }
      ]
    },
    {
      "cell_type": "code",
      "source": [
        "# Stemming\n",
        "stemmer=PorterStemmer()"
      ],
      "metadata": {
        "id": "9f8YxjIGmsyG"
      },
      "execution_count": null,
      "outputs": []
    },
    {
      "cell_type": "code",
      "source": [
        "stemmer.stem(' Drinking')"
      ],
      "metadata": {
        "colab": {
          "base_uri": "https://localhost:8080/",
          "height": 35
        },
        "id": "dr4wU3_5m5Nh",
        "outputId": "da10d242-d8ee-4f64-a91d-48976b0098b3"
      },
      "execution_count": null,
      "outputs": [
        {
          "output_type": "execute_result",
          "data": {
            "text/plain": [
              "' drink'"
            ],
            "application/vnd.google.colaboratory.intrinsic+json": {
              "type": "string"
            }
          },
          "metadata": {},
          "execution_count": 18
        }
      ]
    },
    {
      "cell_type": "code",
      "source": [
        "# Lemmatization\n",
        "nltk.download('wordnet')\n",
        "nltk.download('omw-1.4')\n",
        "from nltk.stem import WordNetLemmatizer"
      ],
      "metadata": {
        "colab": {
          "base_uri": "https://localhost:8080/"
        },
        "id": "ZxwhXTJanAii",
        "outputId": "e4ff5949-547a-4085-e8e7-4b517a44e318"
      },
      "execution_count": null,
      "outputs": [
        {
          "output_type": "stream",
          "name": "stderr",
          "text": [
            "[nltk_data] Downloading package wordnet to /root/nltk_data...\n",
            "[nltk_data]   Package wordnet is already up-to-date!\n",
            "[nltk_data] Downloading package omw-1.4 to /root/nltk_data...\n",
            "[nltk_data]   Unzipping corpora/omw-1.4.zip.\n"
          ]
        }
      ]
    },
    {
      "cell_type": "code",
      "source": [
        "lemmatizer=WordNetLemmatizer()\n",
        "lemmatizer.lemmatize('goes')"
      ],
      "metadata": {
        "colab": {
          "base_uri": "https://localhost:8080/",
          "height": 35
        },
        "id": "WFE0Cak6nNCO",
        "outputId": "f8dd54ed-13f0-4c9e-f5d5-53853602449d"
      },
      "execution_count": null,
      "outputs": [
        {
          "output_type": "execute_result",
          "data": {
            "text/plain": [
              "'go'"
            ],
            "application/vnd.google.colaboratory.intrinsic+json": {
              "type": "string"
            }
          },
          "metadata": {},
          "execution_count": 27
        }
      ]
    },
    {
      "cell_type": "code",
      "source": [
        "import re\n",
        "corpus=[]\n",
        "for i in range(len(sentences)):\n",
        "  review=re.sub('[^a-zA-Z]',' ', sentences[i])\n",
        "  review=review.lower()\n",
        "  corpus.append(review)"
      ],
      "metadata": {
        "id": "90FbJkbXnTuZ"
      },
      "execution_count": null,
      "outputs": []
    },
    {
      "cell_type": "code",
      "source": [
        "corpus"
      ],
      "metadata": {
        "colab": {
          "base_uri": "https://localhost:8080/"
        },
        "id": "_mo1X9B5osVb",
        "outputId": "dee28456-5f55-477c-a314-565fceb4eabe"
      },
      "execution_count": null,
      "outputs": [
        {
          "output_type": "execute_result",
          "data": {
            "text/plain": [
              "[' narendra damodardas modi  gujarati    n  end   d mod   d s  modi    listen   born    september       a  is an indian politician serving as the   th and current prime minister of india since      ',\n",
              " 'modi was the chief minister of gujarat from      to      and is the member of parliament from varanasi ',\n",
              " 'he is a member of the bharatiya janata party  bjp  and of the rashtriya swayamsevak sangh  rss   a right wing hindu nationalist paramilitary volunteer organisation ',\n",
              " 'he is the first prime minister to have been born after india s independence in      and the second prime minister not belonging to the indian national congress to have won two consecutive majorities in the lok sabha  or the lower house of india s parliament ',\n",
              " 'he is also the longest serving prime minister from a non congress party ',\n",
              " 'born and raised in vadnagar  a small town in northeastern gujarat  modi completed his secondary education there ',\n",
              " 'he was introduced to the rss at age eight ',\n",
              " 'he has drawn attention to having to work as a child in his father s tea stall on the vadnagar railway station platform  a description that has not been reliably corroborated ',\n",
              " 'at age     modi was married to jashodaben chimanlal modi  whom he abandoned soon after ',\n",
              " 'he left his parental home where she had come to live ',\n",
              " 'he first publicly acknowledged her as his wife more than four decades later when required to do so by indian law  but has made no contact with her since ',\n",
              " 'modi has asserted he had travelled in northern india for two years after leaving his parental home  visiting a number of religious centres  but few details of his travels have emerged ',\n",
              " 'upon his return to gujarat in       he became a full time worker for the rss ',\n",
              " 'after the state of emergency was declared by prime minister indira gandhi in       modi went into hiding ',\n",
              " 'the rss assigned him to the bjp in      and he held several positions within the party hierarchy until       rising to the rank of general secretary ',\n",
              " ' b ']"
            ]
          },
          "metadata": {},
          "execution_count": 29
        }
      ]
    },
    {
      "cell_type": "code",
      "source": [
        "## Apply Stemming\n",
        "nltk.download('stopwords')\n",
        "for i in corpus:\n",
        "  words = nltk.word_tokenize(i) # Converts sentence into words\n",
        "  for word in words:\n",
        "    if word not in set(stopwords.words('english')):\n",
        "      print(stemmer.stem(word))"
      ],
      "metadata": {
        "colab": {
          "base_uri": "https://localhost:8080/"
        },
        "id": "EHCgKl2VotPv",
        "outputId": "3b1f908c-14bc-4dac-89f8-e851d7ea1b67"
      },
      "execution_count": null,
      "outputs": [
        {
          "output_type": "stream",
          "name": "stderr",
          "text": [
            "[nltk_data] Downloading package stopwords to /root/nltk_data...\n",
            "[nltk_data]   Unzipping corpora/stopwords.zip.\n"
          ]
        },
        {
          "output_type": "stream",
          "name": "stdout",
          "text": [
            "narendra\n",
            "damodarda\n",
            "modi\n",
            "gujarati\n",
            "n\n",
            "end\n",
            "mod\n",
            "modi\n",
            "listen\n",
            "born\n",
            "septemb\n",
            "indian\n",
            "politician\n",
            "serv\n",
            "th\n",
            "current\n",
            "prime\n",
            "minist\n",
            "india\n",
            "sinc\n",
            "modi\n",
            "chief\n",
            "minist\n",
            "gujarat\n",
            "member\n",
            "parliament\n",
            "varanasi\n",
            "member\n",
            "bharatiya\n",
            "janata\n",
            "parti\n",
            "bjp\n",
            "rashtriya\n",
            "swayamsevak\n",
            "sangh\n",
            "rss\n",
            "right\n",
            "wing\n",
            "hindu\n",
            "nationalist\n",
            "paramilitari\n",
            "volunt\n",
            "organis\n",
            "first\n",
            "prime\n",
            "minist\n",
            "born\n",
            "india\n",
            "independ\n",
            "second\n",
            "prime\n",
            "minist\n",
            "belong\n",
            "indian\n",
            "nation\n",
            "congress\n",
            "two\n",
            "consecut\n",
            "major\n",
            "lok\n",
            "sabha\n",
            "lower\n",
            "hous\n",
            "india\n",
            "parliament\n",
            "also\n",
            "longest\n",
            "serv\n",
            "prime\n",
            "minist\n",
            "non\n",
            "congress\n",
            "parti\n",
            "born\n",
            "rais\n",
            "vadnagar\n",
            "small\n",
            "town\n",
            "northeastern\n",
            "gujarat\n",
            "modi\n",
            "complet\n",
            "secondari\n",
            "educ\n",
            "introduc\n",
            "rss\n",
            "age\n",
            "eight\n",
            "drawn\n",
            "attent\n",
            "work\n",
            "child\n",
            "father\n",
            "tea\n",
            "stall\n",
            "vadnagar\n",
            "railway\n",
            "station\n",
            "platform\n",
            "descript\n",
            "reliabl\n",
            "corrobor\n",
            "age\n",
            "modi\n",
            "marri\n",
            "jashodaben\n",
            "chimanl\n",
            "modi\n",
            "abandon\n",
            "soon\n",
            "left\n",
            "parent\n",
            "home\n",
            "come\n",
            "live\n",
            "first\n",
            "publicli\n",
            "acknowledg\n",
            "wife\n",
            "four\n",
            "decad\n",
            "later\n",
            "requir\n",
            "indian\n",
            "law\n",
            "made\n",
            "contact\n",
            "sinc\n",
            "modi\n",
            "assert\n",
            "travel\n",
            "northern\n",
            "india\n",
            "two\n",
            "year\n",
            "leav\n",
            "parent\n",
            "home\n",
            "visit\n",
            "number\n",
            "religi\n",
            "centr\n",
            "detail\n",
            "travel\n",
            "emerg\n",
            "upon\n",
            "return\n",
            "gujarat\n",
            "becam\n",
            "full\n",
            "time\n",
            "worker\n",
            "rss\n",
            "state\n",
            "emerg\n",
            "declar\n",
            "prime\n",
            "minist\n",
            "indira\n",
            "gandhi\n",
            "modi\n",
            "went\n",
            "hide\n",
            "rss\n",
            "assign\n",
            "bjp\n",
            "held\n",
            "sever\n",
            "posit\n",
            "within\n",
            "parti\n",
            "hierarchi\n",
            "rise\n",
            "rank\n",
            "gener\n",
            "secretari\n",
            "b\n"
          ]
        }
      ]
    },
    {
      "cell_type": "code",
      "source": [
        "## Apply Stemming\n",
        "\n",
        "for i in corpus:\n",
        "  words = nltk.word_tokenize(i) # Converts sentence into words\n",
        "  for word in words:\n",
        "    if word not in set(stopwords.words('english')):\n",
        "      print(lemmatizer.lemmatize(word))"
      ],
      "metadata": {
        "colab": {
          "base_uri": "https://localhost:8080/"
        },
        "id": "SGZhsqCPpbq1",
        "outputId": "62b3d8f1-336f-4fb8-94b6-ba9fed700f83"
      },
      "execution_count": null,
      "outputs": [
        {
          "output_type": "stream",
          "name": "stdout",
          "text": [
            "narendra\n",
            "damodardas\n",
            "modi\n",
            "gujarati\n",
            "n\n",
            "end\n",
            "mod\n",
            "modi\n",
            "listen\n",
            "born\n",
            "september\n",
            "indian\n",
            "politician\n",
            "serving\n",
            "th\n",
            "current\n",
            "prime\n",
            "minister\n",
            "india\n",
            "since\n",
            "modi\n",
            "chief\n",
            "minister\n",
            "gujarat\n",
            "member\n",
            "parliament\n",
            "varanasi\n",
            "member\n",
            "bharatiya\n",
            "janata\n",
            "party\n",
            "bjp\n",
            "rashtriya\n",
            "swayamsevak\n",
            "sangh\n",
            "r\n",
            "right\n",
            "wing\n",
            "hindu\n",
            "nationalist\n",
            "paramilitary\n",
            "volunteer\n",
            "organisation\n",
            "first\n",
            "prime\n",
            "minister\n",
            "born\n",
            "india\n",
            "independence\n",
            "second\n",
            "prime\n",
            "minister\n",
            "belonging\n",
            "indian\n",
            "national\n",
            "congress\n",
            "two\n",
            "consecutive\n",
            "majority\n",
            "lok\n",
            "sabha\n",
            "lower\n",
            "house\n",
            "india\n",
            "parliament\n",
            "also\n",
            "longest\n",
            "serving\n",
            "prime\n",
            "minister\n",
            "non\n",
            "congress\n",
            "party\n",
            "born\n",
            "raised\n",
            "vadnagar\n",
            "small\n",
            "town\n",
            "northeastern\n",
            "gujarat\n",
            "modi\n",
            "completed\n",
            "secondary\n",
            "education\n",
            "introduced\n",
            "r\n",
            "age\n",
            "eight\n",
            "drawn\n",
            "attention\n",
            "work\n",
            "child\n",
            "father\n",
            "tea\n",
            "stall\n",
            "vadnagar\n",
            "railway\n",
            "station\n",
            "platform\n",
            "description\n",
            "reliably\n",
            "corroborated\n",
            "age\n",
            "modi\n",
            "married\n",
            "jashodaben\n",
            "chimanlal\n",
            "modi\n",
            "abandoned\n",
            "soon\n",
            "left\n",
            "parental\n",
            "home\n",
            "come\n",
            "live\n",
            "first\n",
            "publicly\n",
            "acknowledged\n",
            "wife\n",
            "four\n",
            "decade\n",
            "later\n",
            "required\n",
            "indian\n",
            "law\n",
            "made\n",
            "contact\n",
            "since\n",
            "modi\n",
            "asserted\n",
            "travelled\n",
            "northern\n",
            "india\n",
            "two\n",
            "year\n",
            "leaving\n",
            "parental\n",
            "home\n",
            "visiting\n",
            "number\n",
            "religious\n",
            "centre\n",
            "detail\n",
            "travel\n",
            "emerged\n",
            "upon\n",
            "return\n",
            "gujarat\n",
            "became\n",
            "full\n",
            "time\n",
            "worker\n",
            "r\n",
            "state\n",
            "emergency\n",
            "declared\n",
            "prime\n",
            "minister\n",
            "indira\n",
            "gandhi\n",
            "modi\n",
            "went\n",
            "hiding\n",
            "r\n",
            "assigned\n",
            "bjp\n",
            "held\n",
            "several\n",
            "position\n",
            "within\n",
            "party\n",
            "hierarchy\n",
            "rising\n",
            "rank\n",
            "general\n",
            "secretary\n",
            "b\n"
          ]
        }
      ]
    },
    {
      "cell_type": "code",
      "source": [
        "from sklearn.feature_extraction.text import CountVectorizer\n",
        "cv=CountVectorizer()"
      ],
      "metadata": {
        "id": "uSCfa6hWqQ95"
      },
      "execution_count": null,
      "outputs": []
    },
    {
      "cell_type": "code",
      "source": [
        "X=cv.fit_transform(corpus)"
      ],
      "metadata": {
        "id": "4oo4TzKXqZ1a"
      },
      "execution_count": null,
      "outputs": []
    },
    {
      "cell_type": "code",
      "source": [
        "cv.vocabulary_"
      ],
      "metadata": {
        "colab": {
          "base_uri": "https://localhost:8080/"
        },
        "id": "pVUTNHUbqkwo",
        "outputId": "8fee8cc3-ca54-4dbb-dedc-748753212484"
      },
      "execution_count": null,
      "outputs": [
        {
          "output_type": "execute_result",
          "data": {
            "text/plain": [
              "{'abandoned': 0,\n",
              " 'acknowledged': 1,\n",
              " 'after': 2,\n",
              " 'age': 3,\n",
              " 'also': 4,\n",
              " 'an': 5,\n",
              " 'and': 6,\n",
              " 'as': 7,\n",
              " 'asserted': 8,\n",
              " 'assigned': 9,\n",
              " 'at': 10,\n",
              " 'attention': 11,\n",
              " 'became': 12,\n",
              " 'been': 13,\n",
              " 'belonging': 14,\n",
              " 'bharatiya': 15,\n",
              " 'bjp': 16,\n",
              " 'born': 17,\n",
              " 'but': 18,\n",
              " 'by': 19,\n",
              " 'centres': 20,\n",
              " 'chief': 21,\n",
              " 'child': 22,\n",
              " 'chimanlal': 23,\n",
              " 'come': 24,\n",
              " 'completed': 25,\n",
              " 'congress': 26,\n",
              " 'consecutive': 27,\n",
              " 'contact': 28,\n",
              " 'corroborated': 29,\n",
              " 'current': 30,\n",
              " 'damodardas': 31,\n",
              " 'decades': 32,\n",
              " 'declared': 33,\n",
              " 'description': 34,\n",
              " 'details': 35,\n",
              " 'do': 36,\n",
              " 'drawn': 37,\n",
              " 'education': 38,\n",
              " 'eight': 39,\n",
              " 'emerged': 40,\n",
              " 'emergency': 41,\n",
              " 'end': 42,\n",
              " 'father': 43,\n",
              " 'few': 44,\n",
              " 'first': 45,\n",
              " 'for': 46,\n",
              " 'four': 47,\n",
              " 'from': 48,\n",
              " 'full': 49,\n",
              " 'gandhi': 50,\n",
              " 'general': 51,\n",
              " 'gujarat': 52,\n",
              " 'gujarati': 53,\n",
              " 'had': 54,\n",
              " 'has': 55,\n",
              " 'have': 56,\n",
              " 'having': 57,\n",
              " 'he': 58,\n",
              " 'held': 59,\n",
              " 'her': 60,\n",
              " 'hiding': 61,\n",
              " 'hierarchy': 62,\n",
              " 'him': 63,\n",
              " 'hindu': 64,\n",
              " 'his': 65,\n",
              " 'home': 66,\n",
              " 'house': 67,\n",
              " 'in': 68,\n",
              " 'independence': 69,\n",
              " 'india': 70,\n",
              " 'indian': 71,\n",
              " 'indira': 72,\n",
              " 'into': 73,\n",
              " 'introduced': 74,\n",
              " 'is': 75,\n",
              " 'janata': 76,\n",
              " 'jashodaben': 77,\n",
              " 'later': 78,\n",
              " 'law': 79,\n",
              " 'leaving': 80,\n",
              " 'left': 81,\n",
              " 'listen': 82,\n",
              " 'live': 83,\n",
              " 'lok': 84,\n",
              " 'longest': 85,\n",
              " 'lower': 86,\n",
              " 'made': 87,\n",
              " 'majorities': 88,\n",
              " 'married': 89,\n",
              " 'member': 90,\n",
              " 'minister': 91,\n",
              " 'mod': 92,\n",
              " 'modi': 93,\n",
              " 'more': 94,\n",
              " 'narendra': 95,\n",
              " 'national': 96,\n",
              " 'nationalist': 97,\n",
              " 'no': 98,\n",
              " 'non': 99,\n",
              " 'northeastern': 100,\n",
              " 'northern': 101,\n",
              " 'not': 102,\n",
              " 'number': 103,\n",
              " 'of': 104,\n",
              " 'on': 105,\n",
              " 'or': 106,\n",
              " 'organisation': 107,\n",
              " 'paramilitary': 108,\n",
              " 'parental': 109,\n",
              " 'parliament': 110,\n",
              " 'party': 111,\n",
              " 'platform': 112,\n",
              " 'politician': 113,\n",
              " 'positions': 114,\n",
              " 'prime': 115,\n",
              " 'publicly': 116,\n",
              " 'railway': 117,\n",
              " 'raised': 118,\n",
              " 'rank': 119,\n",
              " 'rashtriya': 120,\n",
              " 'reliably': 121,\n",
              " 'religious': 122,\n",
              " 'required': 123,\n",
              " 'return': 124,\n",
              " 'right': 125,\n",
              " 'rising': 126,\n",
              " 'rss': 127,\n",
              " 'sabha': 128,\n",
              " 'sangh': 129,\n",
              " 'second': 130,\n",
              " 'secondary': 131,\n",
              " 'secretary': 132,\n",
              " 'september': 133,\n",
              " 'serving': 134,\n",
              " 'several': 135,\n",
              " 'she': 136,\n",
              " 'since': 137,\n",
              " 'small': 138,\n",
              " 'so': 139,\n",
              " 'soon': 140,\n",
              " 'stall': 141,\n",
              " 'state': 142,\n",
              " 'station': 143,\n",
              " 'swayamsevak': 144,\n",
              " 'tea': 145,\n",
              " 'th': 146,\n",
              " 'than': 147,\n",
              " 'that': 148,\n",
              " 'the': 149,\n",
              " 'there': 150,\n",
              " 'time': 151,\n",
              " 'to': 152,\n",
              " 'town': 153,\n",
              " 'travelled': 154,\n",
              " 'travels': 155,\n",
              " 'two': 156,\n",
              " 'until': 157,\n",
              " 'upon': 158,\n",
              " 'vadnagar': 159,\n",
              " 'varanasi': 160,\n",
              " 'visiting': 161,\n",
              " 'volunteer': 162,\n",
              " 'was': 163,\n",
              " 'went': 164,\n",
              " 'when': 165,\n",
              " 'where': 166,\n",
              " 'whom': 167,\n",
              " 'wife': 168,\n",
              " 'wing': 169,\n",
              " 'with': 170,\n",
              " 'within': 171,\n",
              " 'won': 172,\n",
              " 'work': 173,\n",
              " 'worker': 174,\n",
              " 'years': 175}"
            ]
          },
          "metadata": {},
          "execution_count": 40
        }
      ]
    },
    {
      "cell_type": "code",
      "source": [
        "corpus[0]"
      ],
      "metadata": {
        "colab": {
          "base_uri": "https://localhost:8080/",
          "height": 35
        },
        "id": "uu0PtqFlq-L5",
        "outputId": "14b9b4cb-5179-40f5-a03f-0d124f3ad338"
      },
      "execution_count": null,
      "outputs": [
        {
          "output_type": "execute_result",
          "data": {
            "text/plain": [
              "' narendra damodardas modi  gujarati    n  end   d mod   d s  modi    listen   born    september       a  is an indian politician serving as the   th and current prime minister of india since      '"
            ],
            "application/vnd.google.colaboratory.intrinsic+json": {
              "type": "string"
            }
          },
          "metadata": {},
          "execution_count": 41
        }
      ]
    },
    {
      "cell_type": "code",
      "source": [
        "X[0].toarray()"
      ],
      "metadata": {
        "colab": {
          "base_uri": "https://localhost:8080/"
        },
        "id": "RJwuHw6mrABd",
        "outputId": "81352d71-ab70-4de1-ea15-0ff843b7a05e"
      },
      "execution_count": null,
      "outputs": [
        {
          "output_type": "execute_result",
          "data": {
            "text/plain": [
              "array([[0, 0, 0, 0, 0, 1, 1, 1, 0, 0, 0, 0, 0, 0, 0, 0, 0, 1, 0, 0, 0, 0,\n",
              "        0, 0, 0, 0, 0, 0, 0, 0, 1, 1, 0, 0, 0, 0, 0, 0, 0, 0, 0, 0, 1, 0,\n",
              "        0, 0, 0, 0, 0, 0, 0, 0, 0, 1, 0, 0, 0, 0, 0, 0, 0, 0, 0, 0, 0, 0,\n",
              "        0, 0, 0, 0, 1, 1, 0, 0, 0, 1, 0, 0, 0, 0, 0, 0, 1, 0, 0, 0, 0, 0,\n",
              "        0, 0, 0, 1, 1, 2, 0, 1, 0, 0, 0, 0, 0, 0, 0, 0, 1, 0, 0, 0, 0, 0,\n",
              "        0, 0, 0, 1, 0, 1, 0, 0, 0, 0, 0, 0, 0, 0, 0, 0, 0, 0, 0, 0, 0, 0,\n",
              "        0, 1, 1, 0, 0, 1, 0, 0, 0, 0, 0, 0, 0, 0, 1, 0, 0, 1, 0, 0, 0, 0,\n",
              "        0, 0, 0, 0, 0, 0, 0, 0, 0, 0, 0, 0, 0, 0, 0, 0, 0, 0, 0, 0, 0, 0]])"
            ]
          },
          "metadata": {},
          "execution_count": 43
        }
      ]
    },
    {
      "cell_type": "code",
      "source": [
        ""
      ],
      "metadata": {
        "id": "871HaDFRrFtk"
      },
      "execution_count": null,
      "outputs": []
    }
  ]
}